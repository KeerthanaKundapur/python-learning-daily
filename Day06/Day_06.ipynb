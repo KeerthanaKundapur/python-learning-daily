{
 "cells": [
  {
   "cell_type": "markdown",
   "id": "dcf7efd3",
   "metadata": {},
   "source": [
    "# Tuples and Sets in Python"
   ]
  },
  {
   "cell_type": "markdown",
   "id": "7ca71174",
   "metadata": {},
   "source": [
    "1. Tuples in Python"
   ]
  },
  {
   "cell_type": "markdown",
   "id": "f02e28ad",
   "metadata": {},
   "source": [
    "    Syntax:\n",
    "my_tuple = (element1,element2,element3,...)"
   ]
  },
  {
   "cell_type": "code",
   "execution_count": 2,
   "id": "599a1a67",
   "metadata": {},
   "outputs": [
    {
     "name": "stdout",
     "output_type": "stream",
     "text": [
      "('apple', 'banana', 'cherry')\n",
      "(1, 2, 3, 4)\n"
     ]
    }
   ],
   "source": [
    "my_tuple =(\"apple\",\"banana\",\"cherry\")\n",
    "numbers_tuple = (1,2,3,4)\n",
    "print(my_tuple)\n",
    "print(numbers_tuple)"
   ]
  },
  {
   "cell_type": "markdown",
   "id": "35563917",
   "metadata": {},
   "source": [
    "Creating a Tuple with One Element:"
   ]
  },
  {
   "cell_type": "code",
   "execution_count": 4,
   "id": "6b82908e",
   "metadata": {},
   "outputs": [
    {
     "name": "stdout",
     "output_type": "stream",
     "text": [
      "('apple',)\n"
     ]
    }
   ],
   "source": [
    "single_element_tuple = (\"apple\",)\n",
    "print(single_element_tuple)"
   ]
  },
  {
   "cell_type": "markdown",
   "id": "9e3f9349",
   "metadata": {},
   "source": [
    "2. Accessing Tuple Elements"
   ]
  },
  {
   "cell_type": "code",
   "execution_count": 6,
   "id": "eb1633fe",
   "metadata": {},
   "outputs": [
    {
     "name": "stdout",
     "output_type": "stream",
     "text": [
      "apple\n",
      "cherry\n"
     ]
    }
   ],
   "source": [
    "fruits = (\"apple\",\"banana\",\"cherry\")\n",
    "print(fruits[0])\n",
    "print(fruits[-1])"
   ]
  },
  {
   "cell_type": "markdown",
   "id": "e690aefc",
   "metadata": {},
   "source": [
    "Slicing Tuples:"
   ]
  },
  {
   "cell_type": "code",
   "execution_count": 7,
   "id": "1afccae1",
   "metadata": {},
   "outputs": [
    {
     "name": "stdout",
     "output_type": "stream",
     "text": [
      "('banana', 'cherry')\n"
     ]
    }
   ],
   "source": [
    "print(fruits[1:3])"
   ]
  },
  {
   "cell_type": "markdown",
   "id": "0b7adc5c",
   "metadata": {},
   "source": [
    "3. Tuple Operations"
   ]
  },
  {
   "cell_type": "markdown",
   "id": "fc4e96f2",
   "metadata": {},
   "source": [
    "Tuple Concatenation:"
   ]
  },
  {
   "cell_type": "code",
   "execution_count": 10,
   "id": "72b1d5b8",
   "metadata": {},
   "outputs": [
    {
     "name": "stdout",
     "output_type": "stream",
     "text": [
      "(1, 2, 3, 4, 5, 6)\n"
     ]
    }
   ],
   "source": [
    "tuple1 = (1,2,3)\n",
    "tuple2 = (4,5,6)\n",
    "\n",
    "combined_tuple = tuple1+tuple2\n",
    "print(combined_tuple)"
   ]
  },
  {
   "cell_type": "markdown",
   "id": "290456ff",
   "metadata": {},
   "source": [
    "Tuple Repetition:"
   ]
  },
  {
   "cell_type": "code",
   "execution_count": 11,
   "id": "59cbcc90",
   "metadata": {},
   "outputs": [
    {
     "name": "stdout",
     "output_type": "stream",
     "text": [
      "(1, 2, 1, 2, 1, 2)\n"
     ]
    }
   ],
   "source": [
    "repeated_tuple = (1,2)*3\n",
    "print(repeated_tuple)"
   ]
  },
  {
   "cell_type": "markdown",
   "id": "2fed1a3e",
   "metadata": {},
   "source": [
    "Checking Membership:"
   ]
  },
  {
   "cell_type": "code",
   "execution_count": 12,
   "id": "65621a11",
   "metadata": {},
   "outputs": [
    {
     "name": "stdout",
     "output_type": "stream",
     "text": [
      "True\n"
     ]
    }
   ],
   "source": [
    "print(\"apple\" in fruits)"
   ]
  },
  {
   "cell_type": "markdown",
   "id": "9a08943b",
   "metadata": {},
   "source": [
    "4. Tuple Methods"
   ]
  },
  {
   "cell_type": "code",
   "execution_count": 15,
   "id": "e937defe",
   "metadata": {},
   "outputs": [
    {
     "name": "stdout",
     "output_type": "stream",
     "text": [
      "3\n"
     ]
    }
   ],
   "source": [
    "#count()\n",
    "my_tuple = (1,2,3,1,1)\n",
    "print(my_tuple.count(1))"
   ]
  },
  {
   "cell_type": "code",
   "execution_count": 16,
   "id": "3001ed64",
   "metadata": {},
   "outputs": [
    {
     "name": "stdout",
     "output_type": "stream",
     "text": [
      "1\n"
     ]
    }
   ],
   "source": [
    "#index()\n",
    "my_tuple = (\"apple\",\"banana\",\"cherry\")\n",
    "print(my_tuple.index(\"banana\"))"
   ]
  },
  {
   "cell_type": "markdown",
   "id": "c0a7cb09",
   "metadata": {},
   "source": [
    "5. Sets in Python"
   ]
  },
  {
   "cell_type": "markdown",
   "id": "8d7ea691",
   "metadata": {},
   "source": [
    "    Syntax:\n",
    "        my_set = {element1,element2,element3,...}"
   ]
  },
  {
   "cell_type": "code",
   "execution_count": 28,
   "id": "be2ba613",
   "metadata": {},
   "outputs": [
    {
     "name": "stdout",
     "output_type": "stream",
     "text": [
      "{'apple', 'cherry', 'banana'}\n",
      "{1, 2, 3, 4, 5}\n"
     ]
    }
   ],
   "source": [
    "fruits_set = {\"apple\",\"banana\",\"cherry\"}\n",
    "numbers_set = {1,2,3,4,5}\n",
    "print(fruits_set)\n",
    "print(numbers_set)"
   ]
  },
  {
   "cell_type": "markdown",
   "id": "47fe9bd7",
   "metadata": {},
   "source": [
    "Empty Sets:"
   ]
  },
  {
   "cell_type": "code",
   "execution_count": 29,
   "id": "4d40f910",
   "metadata": {},
   "outputs": [
    {
     "name": "stdout",
     "output_type": "stream",
     "text": [
      "set()\n"
     ]
    }
   ],
   "source": [
    "empty_set = set()\n",
    "print(empty_set)"
   ]
  },
  {
   "cell_type": "markdown",
   "id": "c435a004",
   "metadata": {},
   "source": [
    "6. Set Operations"
   ]
  },
  {
   "cell_type": "markdown",
   "id": "c7d907b7",
   "metadata": {},
   "source": [
    "Union:"
   ]
  },
  {
   "cell_type": "code",
   "execution_count": 30,
   "id": "64bbf4e4",
   "metadata": {},
   "outputs": [
    {
     "name": "stdout",
     "output_type": "stream",
     "text": [
      "{1, 2, 3, 4, 5}\n"
     ]
    }
   ],
   "source": [
    "set1 = {1,2,3}\n",
    "set2 = {3,4,5}\n",
    "union_set = set1|set2\n",
    "print(union_set)"
   ]
  },
  {
   "cell_type": "markdown",
   "id": "54405947",
   "metadata": {},
   "source": [
    "Intersection:"
   ]
  },
  {
   "cell_type": "code",
   "execution_count": 31,
   "id": "ff5e25ea",
   "metadata": {},
   "outputs": [
    {
     "name": "stdout",
     "output_type": "stream",
     "text": [
      "{3}\n"
     ]
    }
   ],
   "source": [
    "intersection_set = set1&set2\n",
    "print(intersection_set)"
   ]
  },
  {
   "cell_type": "markdown",
   "id": "e2980786",
   "metadata": {},
   "source": [
    "Difference:"
   ]
  },
  {
   "cell_type": "code",
   "execution_count": 32,
   "id": "ad946270",
   "metadata": {},
   "outputs": [
    {
     "name": "stdout",
     "output_type": "stream",
     "text": [
      "{1, 2}\n"
     ]
    }
   ],
   "source": [
    "difference_set = set1-set2\n",
    "print(difference_set)"
   ]
  },
  {
   "cell_type": "markdown",
   "id": "8628a094",
   "metadata": {},
   "source": [
    "Symmetric Difference:"
   ]
  },
  {
   "cell_type": "code",
   "execution_count": 33,
   "id": "4b0b5215",
   "metadata": {},
   "outputs": [
    {
     "name": "stdout",
     "output_type": "stream",
     "text": [
      "{1, 2, 4, 5}\n"
     ]
    }
   ],
   "source": [
    "sym_diff_set = set1^set2\n",
    "print(sym_diff_set)"
   ]
  },
  {
   "cell_type": "markdown",
   "id": "ff580339",
   "metadata": {},
   "source": [
    "8. Set Methods"
   ]
  },
  {
   "cell_type": "code",
   "execution_count": 35,
   "id": "6acdb5c7",
   "metadata": {},
   "outputs": [
    {
     "name": "stdout",
     "output_type": "stream",
     "text": [
      "{'apple', 'orange', 'cherry', 'banana'}\n"
     ]
    }
   ],
   "source": [
    "#add():\n",
    "fruits_set.add(\"orange\")\n",
    "print(fruits_set)"
   ]
  },
  {
   "cell_type": "code",
   "execution_count": 36,
   "id": "766521fb",
   "metadata": {},
   "outputs": [
    {
     "name": "stdout",
     "output_type": "stream",
     "text": [
      "{'apple', 'orange', 'cherry'}\n"
     ]
    }
   ],
   "source": [
    "#remove():\n",
    "fruits_set.remove(\"banana\")\n",
    "print(fruits_set)"
   ]
  },
  {
   "cell_type": "code",
   "execution_count": 39,
   "id": "ae762180",
   "metadata": {},
   "outputs": [
    {
     "name": "stdout",
     "output_type": "stream",
     "text": [
      "{'apple', 'orange', 'cherry'}\n"
     ]
    }
   ],
   "source": [
    "#discard()\n",
    "fruits_set.discard(\"banana\")\n",
    "print(fruits_set)            #No error if \"banana\" is not in the set."
   ]
  },
  {
   "cell_type": "code",
   "execution_count": 40,
   "id": "ad6383c8",
   "metadata": {},
   "outputs": [
    {
     "data": {
      "text/plain": [
       "'apple'"
      ]
     },
     "execution_count": 40,
     "metadata": {},
     "output_type": "execute_result"
    }
   ],
   "source": [
    "#pop()\n",
    "fruits_set.pop()"
   ]
  },
  {
   "cell_type": "code",
   "execution_count": 41,
   "id": "d7e124ed",
   "metadata": {},
   "outputs": [
    {
     "name": "stdout",
     "output_type": "stream",
     "text": [
      "set()\n"
     ]
    }
   ],
   "source": [
    "#clear()\n",
    "fruits_set.clear()\n",
    "print(fruits_set)"
   ]
  },
  {
   "cell_type": "markdown",
   "id": "2c9f1e2e",
   "metadata": {},
   "source": [
    "Assignments:"
   ]
  },
  {
   "cell_type": "markdown",
   "id": "720965fe",
   "metadata": {},
   "source": [
    "    1. Tuple Operations:\n",
    "        Create a tuple with 5 elements.\n",
    "        Try to modify one of the elements. What happens?\n",
    "        Perform slicing on the tuple to extract the second and third elements.\n",
    "        Concatenate the tuple with another tuple."
   ]
  },
  {
   "cell_type": "code",
   "execution_count": 47,
   "id": "4423a368",
   "metadata": {},
   "outputs": [
    {
     "name": "stdout",
     "output_type": "stream",
     "text": [
      "Original Tuple: (10, 20, 30, 40, 50)\n"
     ]
    }
   ],
   "source": [
    "#1. Create a tuple with 5 elements\n",
    "my_tuple = (10, 20, 30, 40, 50)\n",
    "print(\"Original Tuple:\", my_tuple)"
   ]
  },
  {
   "cell_type": "code",
   "execution_count": 48,
   "id": "3c904c1a",
   "metadata": {},
   "outputs": [
    {
     "ename": "TypeError",
     "evalue": "'tuple' object does not support item assignment",
     "output_type": "error",
     "traceback": [
      "\u001b[1;31m---------------------------------------------------------------------------\u001b[0m",
      "\u001b[1;31mTypeError\u001b[0m                                 Traceback (most recent call last)",
      "Cell \u001b[1;32mIn[48], line 3\u001b[0m\n\u001b[0;32m      1\u001b[0m \u001b[38;5;66;03m#2. Try to modify one of the elements\u001b[39;00m\n\u001b[0;32m      2\u001b[0m \u001b[38;5;66;03m# Attempting to modify the second element\u001b[39;00m\n\u001b[1;32m----> 3\u001b[0m my_tuple[\u001b[38;5;241m1\u001b[39m] \u001b[38;5;241m=\u001b[39m \u001b[38;5;241m99\u001b[39m\n",
      "\u001b[1;31mTypeError\u001b[0m: 'tuple' object does not support item assignment"
     ]
    }
   ],
   "source": [
    "#2. Try to modify one of the elements\n",
    "# Attempting to modify the second element\n",
    "my_tuple[1] = 99  # This will raise an error"
   ]
  },
  {
   "cell_type": "code",
   "execution_count": 49,
   "id": "9ea9ae39",
   "metadata": {},
   "outputs": [
    {
     "name": "stdout",
     "output_type": "stream",
     "text": [
      "Sliced Tuple (2nd and 3rd elements): (20, 30)\n"
     ]
    }
   ],
   "source": [
    "#3. Perform slicing to extract the second and third elements\n",
    "sliced_tuple = my_tuple[1:3]  # Indexing starts at 0\n",
    "print(\"Sliced Tuple (2nd and 3rd elements):\", sliced_tuple)"
   ]
  },
  {
   "cell_type": "code",
   "execution_count": 50,
   "id": "fa3004d4",
   "metadata": {},
   "outputs": [
    {
     "name": "stdout",
     "output_type": "stream",
     "text": [
      "Concatenated Tuple: (10, 20, 30, 40, 50, 60, 70)\n"
     ]
    }
   ],
   "source": [
    "#4. Concatenate the tuple with another tuple\n",
    "another_tuple = (60, 70)\n",
    "concatenated_tuple = my_tuple + another_tuple\n",
    "print(\"Concatenated Tuple:\", concatenated_tuple)"
   ]
  },
  {
   "cell_type": "markdown",
   "id": "6e00215c",
   "metadata": {},
   "source": [
    "    2.Set Operations:\n",
    "\n",
    "    Create two sets: one with your favorite fruits and another with your friend’s favorite fruits.\n",
    "    Find the union, intersection, and difference between the two sets.\n",
    "    Add a new fruit to your set.\n",
    "    Remove a fruit from your set using both remove() and discard(). What happens when the fruit doesn’t exist?\n",
    "\n"
   ]
  },
  {
   "cell_type": "code",
   "execution_count": 62,
   "id": "2cb46cbf",
   "metadata": {},
   "outputs": [
    {
     "name": "stdout",
     "output_type": "stream",
     "text": [
      "My Favorite Fruits: {'apple', 'mango', 'banana'}\n",
      "Friend's Favorite Fruits: {'orange', 'grapes', 'banana'}\n"
     ]
    }
   ],
   "source": [
    "#1. Create two sets\n",
    "my_fav_fruits = {\"apple\", \"mango\", \"banana\"}\n",
    "friends_fav_fruits = {\"banana\", \"orange\", \"grapes\"}\n",
    "print(\"My Favorite Fruits:\", my_fav_fruits)\n",
    "print(\"Friend's Favorite Fruits:\", friends_fav_fruits)"
   ]
  },
  {
   "cell_type": "code",
   "execution_count": 63,
   "id": "6d4d6941",
   "metadata": {},
   "outputs": [
    {
     "name": "stdout",
     "output_type": "stream",
     "text": [
      "Union: {'mango', 'orange', 'banana', 'apple', 'grapes'}\n",
      "Intersection: {'banana'}\n",
      "Difference (Mine - Friend's): {'apple', 'mango'}\n"
     ]
    }
   ],
   "source": [
    "#2. Find the union, intersection, and difference\n",
    "# Union: all unique elements from both sets\n",
    "union_set = my_fav_fruits.union(friends_fav_fruits)\n",
    "print(\"Union:\", union_set)\n",
    "\n",
    "# Intersection: common elements\n",
    "intersection_set = my_fav_fruits.intersection(friends_fav_fruits)\n",
    "print(\"Intersection:\", intersection_set)\n",
    "\n",
    "# Difference: elements in my set but not in friend's\n",
    "difference_set = my_fav_fruits.difference(friends_fav_fruits)\n",
    "print(\"Difference (Mine - Friend's):\", difference_set)"
   ]
  },
  {
   "cell_type": "code",
   "execution_count": 64,
   "id": "12b914ba",
   "metadata": {},
   "outputs": [
    {
     "name": "stdout",
     "output_type": "stream",
     "text": [
      "After Adding 'papaya': {'papaya', 'apple', 'mango', 'banana'}\n"
     ]
    }
   ],
   "source": [
    "#3. Add a new fruit to your set\n",
    "my_fav_fruits.add(\"papaya\")\n",
    "print(\"After Adding 'papaya':\", my_fav_fruits)"
   ]
  },
  {
   "cell_type": "code",
   "execution_count": 65,
   "id": "b5bff184",
   "metadata": {},
   "outputs": [
    {
     "name": "stdout",
     "output_type": "stream",
     "text": [
      "After remove('apple'): {'papaya', 'mango', 'banana'}\n",
      "After discard('mango'): {'papaya', 'banana'}\n"
     ]
    }
   ],
   "source": [
    "#4. Remove a fruit using remove() and discard()\n",
    "# Using remove()\n",
    "my_fav_fruits.remove(\"apple\")  # Removes 'apple' if it exists\n",
    "print(\"After remove('apple'):\", my_fav_fruits)\n",
    "\n",
    "# Using discard()\n",
    "my_fav_fruits.discard(\"mango\")  # Removes 'mango' if it exists\n",
    "print(\"After discard('mango'):\", my_fav_fruits)"
   ]
  },
  {
   "cell_type": "code",
   "execution_count": 66,
   "id": "aa824ec3",
   "metadata": {},
   "outputs": [
    {
     "ename": "KeyError",
     "evalue": "'pineapple'",
     "output_type": "error",
     "traceback": [
      "\u001b[1;31m---------------------------------------------------------------------------\u001b[0m",
      "\u001b[1;31mKeyError\u001b[0m                                  Traceback (most recent call last)",
      "Cell \u001b[1;32mIn[66], line 3\u001b[0m\n\u001b[0;32m      1\u001b[0m \u001b[38;5;66;03m#What happens if the fruit doesn’t exist?\u001b[39;00m\n\u001b[0;32m      2\u001b[0m \u001b[38;5;66;03m# This will raise an error\u001b[39;00m\n\u001b[1;32m----> 3\u001b[0m my_fav_fruits\u001b[38;5;241m.\u001b[39mremove(\u001b[38;5;124m\"\u001b[39m\u001b[38;5;124mpineapple\u001b[39m\u001b[38;5;124m\"\u001b[39m)  \u001b[38;5;66;03m# Error if 'pineapple' doesn't exist\u001b[39;00m\n\u001b[0;32m      5\u001b[0m \u001b[38;5;66;03m# This will NOT raise an error\u001b[39;00m\n\u001b[0;32m      6\u001b[0m my_fav_fruits\u001b[38;5;241m.\u001b[39mdiscard(\u001b[38;5;124m\"\u001b[39m\u001b[38;5;124mpineapple\u001b[39m\u001b[38;5;124m\"\u001b[39m)\n",
      "\u001b[1;31mKeyError\u001b[0m: 'pineapple'"
     ]
    }
   ],
   "source": [
    "#What happens if the fruit doesn’t exist?\n",
    "# This will raise an error\n",
    "my_fav_fruits.remove(\"pineapple\")  # Error if 'pineapple' doesn't exist\n",
    "\n",
    "# This will NOT raise an error\n",
    "my_fav_fruits.discard(\"pineapple\")  # Safe to use"
   ]
  },
  {
   "cell_type": "markdown",
   "id": "4912c17d",
   "metadata": {},
   "source": [
    " 3.Tuple and Set Comparison:\n",
    "\n",
    "        Create a list of elements and convert it into both a tuple and a set.\n",
    "        Print both the tuple and the set.\n",
    "        Try to add new elements to the tuple and set. What differences do you observe?\n",
    "\n"
   ]
  },
  {
   "cell_type": "markdown",
   "id": "dd94d0f9",
   "metadata": {},
   "source": [
    "Create a list and convert it to both a tuple and a set"
   ]
  },
  {
   "cell_type": "code",
   "execution_count": 71,
   "id": "1775f1b1",
   "metadata": {},
   "outputs": [
    {
     "name": "stdout",
     "output_type": "stream",
     "text": [
      "Original List: [1, 2, 3, 4, 5, 3]\n",
      "Converted Tuple: (1, 2, 3, 4, 5, 3)\n",
      "Converted Set: {1, 2, 3, 4, 5}\n"
     ]
    }
   ],
   "source": [
    "my_list = [1, 2, 3, 4, 5, 3]  # Note: duplicate element (3)\n",
    "my_tuple = tuple(my_list)\n",
    "my_set = set(my_list)\n",
    "\n",
    "print(\"Original List:\", my_list)\n",
    "print(\"Converted Tuple:\", my_tuple)\n",
    "print(\"Converted Set:\", my_set)"
   ]
  },
  {
   "cell_type": "code",
   "execution_count": 74,
   "id": "27f0a216",
   "metadata": {
    "scrolled": true
   },
   "outputs": [
    {
     "ename": "SyntaxError",
     "evalue": "invalid syntax (3793102031.py, line 3)",
     "output_type": "error",
     "traceback": [
      "\u001b[1;36m  Cell \u001b[1;32mIn[74], line 3\u001b[1;36m\u001b[0m\n\u001b[1;33m    2. Try to add elements to both\u001b[0m\n\u001b[1;37m       ^\u001b[0m\n\u001b[1;31mSyntaxError\u001b[0m\u001b[1;31m:\u001b[0m invalid syntax\n"
     ]
    }
   ],
   "source": [
    "#2. Try to add elements to both\n",
    "#Add to the tuple\n",
    "my_tuple.append(6)  # ❌ Error: Tuples are immutable"
   ]
  },
  {
   "cell_type": "code",
   "execution_count": 75,
   "id": "ac46e1f9",
   "metadata": {},
   "outputs": [
    {
     "name": "stdout",
     "output_type": "stream",
     "text": [
      "Updated Set: {1, 2, 3, 4, 5, 6}\n"
     ]
    }
   ],
   "source": [
    "#Add to the set\n",
    "my_set.add(6)  # ✅ Works fine\n",
    "print(\"Updated Set:\", my_set)"
   ]
  },
  {
   "cell_type": "code",
   "execution_count": null,
   "id": "b9f8daf8",
   "metadata": {},
   "outputs": [],
   "source": []
  }
 ],
 "metadata": {
  "kernelspec": {
   "display_name": "Python 3 (ipykernel)",
   "language": "python",
   "name": "python3"
  },
  "language_info": {
   "codemirror_mode": {
    "name": "ipython",
    "version": 3
   },
   "file_extension": ".py",
   "mimetype": "text/x-python",
   "name": "python",
   "nbconvert_exporter": "python",
   "pygments_lexer": "ipython3",
   "version": "3.11.5"
  }
 },
 "nbformat": 4,
 "nbformat_minor": 5
}
