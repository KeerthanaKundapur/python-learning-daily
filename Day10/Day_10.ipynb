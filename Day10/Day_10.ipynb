{
 "cells": [
  {
   "cell_type": "markdown",
   "id": "7efd3596",
   "metadata": {},
   "source": [
    "# For Loops in Python"
   ]
  },
  {
   "cell_type": "markdown",
   "id": "a58981ef",
   "metadata": {},
   "source": [
    "1. The Basic Structure of a for Loop"
   ]
  },
  {
   "cell_type": "markdown",
   "id": "2c00fed4",
   "metadata": {},
   "source": [
    "    Syntax:\n",
    "    for item in sequence:\n",
    "    #Code to execute for each item in the sequence"
   ]
  },
  {
   "cell_type": "code",
   "execution_count": 1,
   "id": "bb9e1dfb",
   "metadata": {},
   "outputs": [
    {
     "name": "stdout",
     "output_type": "stream",
     "text": [
      "Bengaluru\n",
      "Mysuru\n",
      "Hubballi\n",
      "Mangaluru\n"
     ]
    }
   ],
   "source": [
    "#Let’s print each name in a list of Kannada cities:\n",
    "cities = [\"Bengaluru\",\"Mysuru\",\"Hubballi\",\"Mangaluru\"]\n",
    "for city in cities:\n",
    "    print(city)"
   ]
  },
  {
   "cell_type": "markdown",
   "id": "0eced653",
   "metadata": {},
   "source": [
    "2. Using range() with for Loops"
   ]
  },
  {
   "cell_type": "markdown",
   "id": "8757cf17",
   "metadata": {},
   "source": [
    "    Syntax of range():\n",
    "    range(start,stop,step)"
   ]
  },
  {
   "cell_type": "code",
   "execution_count": 2,
   "id": "4f30d69b",
   "metadata": {},
   "outputs": [
    {
     "name": "stdout",
     "output_type": "stream",
     "text": [
      "1\n",
      "2\n",
      "3\n",
      "4\n",
      "5\n",
      "6\n",
      "7\n",
      "8\n",
      "9\n",
      "10\n"
     ]
    }
   ],
   "source": [
    "#Counting from 1 to 10\n",
    "for i in range(1,11):\n",
    "    print(i)"
   ]
  },
  {
   "cell_type": "code",
   "execution_count": 5,
   "id": "214505ec",
   "metadata": {},
   "outputs": [
    {
     "name": "stdout",
     "output_type": "stream",
     "text": [
      "1\n",
      "3\n",
      "5\n",
      "7\n",
      "9\n"
     ]
    }
   ],
   "source": [
    "#Counting by 2s from 1 to 10\n",
    "for i in range(1,11,2):\n",
    "    print(i)"
   ]
  },
  {
   "cell_type": "markdown",
   "id": "a4c69437",
   "metadata": {},
   "source": [
    "3. Looping Over Strings"
   ]
  },
  {
   "cell_type": "code",
   "execution_count": 6,
   "id": "8b14396f",
   "metadata": {},
   "outputs": [
    {
     "name": "stdout",
     "output_type": "stream",
     "text": [
      "K\n",
      "a\n",
      "r\n",
      "n\n",
      "a\n",
      "t\n",
      "a\n",
      "k\n",
      "a\n"
     ]
    }
   ],
   "source": [
    "#Printing each character in a string\n",
    "name = 'Karnataka'\n",
    "for letter in name:\n",
    "    print(letter)"
   ]
  },
  {
   "cell_type": "markdown",
   "id": "e45ffa21",
   "metadata": {},
   "source": [
    "4. Nested for Loops"
   ]
  },
  {
   "cell_type": "code",
   "execution_count": 7,
   "id": "4c0345f2",
   "metadata": {},
   "outputs": [
    {
     "name": "stdout",
     "output_type": "stream",
     "text": [
      "1 x 1 = 1\n",
      "1 x 2 = 2\n",
      "1 x 3 = 3\n",
      "1 x 4 = 4\n",
      "1 x 5 = 5\n",
      "\n",
      "2 x 1 = 2\n",
      "2 x 2 = 4\n",
      "2 x 3 = 6\n",
      "2 x 4 = 8\n",
      "2 x 5 = 10\n",
      "\n",
      "3 x 1 = 3\n",
      "3 x 2 = 6\n",
      "3 x 3 = 9\n",
      "3 x 4 = 12\n",
      "3 x 5 = 15\n",
      "\n",
      "4 x 1 = 4\n",
      "4 x 2 = 8\n",
      "4 x 3 = 12\n",
      "4 x 4 = 16\n",
      "4 x 5 = 20\n",
      "\n",
      "5 x 1 = 5\n",
      "5 x 2 = 10\n",
      "5 x 3 = 15\n",
      "5 x 4 = 20\n",
      "5 x 5 = 25\n",
      "\n"
     ]
    }
   ],
   "source": [
    "#Let’s print the multiplication table from 1 to 5 using a nested for loop.\n",
    "for i in range(1,6):\n",
    "    for j in range(1,6):\n",
    "        print(f\"{i} x {j} = {i*j}\")\n",
    "    print() #To print an empty line after each table"
   ]
  },
  {
   "cell_type": "markdown",
   "id": "9750fd34",
   "metadata": {},
   "source": [
    "5. Using break in a for Loop"
   ]
  },
  {
   "cell_type": "code",
   "execution_count": 9,
   "id": "31a6a28d",
   "metadata": {},
   "outputs": [
    {
     "name": "stdout",
     "output_type": "stream",
     "text": [
      "Bengaluru\n",
      "Mysuru\n",
      "Found Hubballi!\n"
     ]
    }
   ],
   "source": [
    "#Let’s say you are searching for a specific city in a list:\n",
    "cities = [\"Bengaluru\", \"Mysuru\", \"Hubballi\", \"Mangaluru\"]\n",
    "for city in cities:\n",
    "    if city == \"Hubballi\":\n",
    "        print(f\"Found {city}!\")\n",
    "        break\n",
    "    print(city)"
   ]
  },
  {
   "cell_type": "markdown",
   "id": "9f8abbfb",
   "metadata": {},
   "source": [
    "6. Using continue in a for Loop"
   ]
  },
  {
   "cell_type": "code",
   "execution_count": 10,
   "id": "0bcc92cb",
   "metadata": {},
   "outputs": [
    {
     "name": "stdout",
     "output_type": "stream",
     "text": [
      "Bengaluru\n",
      "Mysuru\n",
      "Mangaluru\n"
     ]
    }
   ],
   "source": [
    "#Let’s skip \"Hubballi\" while looping through the cities:\n",
    "cities = [\"Bengaluru\", \"Mysuru\", \"Hubballi\", \"Mangaluru\"]\n",
    "for city in cities:\n",
    "    if city == \"Hubballi\":\n",
    "        continue\n",
    "    print(city)"
   ]
  },
  {
   "cell_type": "markdown",
   "id": "56d0f894",
   "metadata": {},
   "source": [
    "7. Looping Through a List with enumerate()"
   ]
  },
  {
   "cell_type": "code",
   "execution_count": 11,
   "id": "cffac1bc",
   "metadata": {},
   "outputs": [
    {
     "name": "stdout",
     "output_type": "stream",
     "text": [
      "City 1:Bengaluru\n",
      "City 2:Mysuru\n",
      "City 3:Hubballi\n",
      "City 4:Mangaluru\n"
     ]
    }
   ],
   "source": [
    "#Displaying the index and value of each city\n",
    "cities = [\"Bengaluru\", \"Mysuru\", \"Hubballi\", \"Mangaluru\"]\n",
    "for index,city in enumerate(cities):\n",
    "    print(f\"City {index+1}:{city}\")"
   ]
  },
  {
   "cell_type": "markdown",
   "id": "93346302",
   "metadata": {},
   "source": [
    "8. Using else with for Loops"
   ]
  },
  {
   "cell_type": "code",
   "execution_count": 12,
   "id": "f92401df",
   "metadata": {},
   "outputs": [
    {
     "name": "stdout",
     "output_type": "stream",
     "text": [
      "Bengaluru\n",
      "Mysuru\n",
      "Hubballi\n",
      "Mangaluru\n",
      "No more cities!\n"
     ]
    }
   ],
   "source": [
    "#Example\n",
    "for city in cities:\n",
    "    print(city)\n",
    "else:\n",
    "    print(\"No more cities!\")"
   ]
  },
  {
   "cell_type": "markdown",
   "id": "c47fbb84",
   "metadata": {},
   "source": [
    "9. Real-Life Example: Distributing Laddus"
   ]
  },
  {
   "cell_type": "code",
   "execution_count": 16,
   "id": "ccc3a034",
   "metadata": {},
   "outputs": [
    {
     "name": "stdout",
     "output_type": "stream",
     "text": [
      "Rahul gets a laddu!\n",
      "Sneha gets a laddu!\n",
      "Aman gets a laddu!\n",
      "Priya gets a laddu!\n",
      "Rani gets a laddu!\n",
      "No laddus left!\n"
     ]
    }
   ],
   "source": [
    "#Imagine you have 5 laddus to distribute among friends. You can use a for loop to give each friend one laddu.\n",
    "laddus = 5\n",
    "friends = [\"Rahul\", \"Sneha\", \"Aman\", \"Priya\",\"Rani\",\"Satya\"]\n",
    "\n",
    "for friend in friends:\n",
    "    if laddus > 0:\n",
    "        print(f\"{friend} gets a laddu!\")\n",
    "        laddus -= 1\n",
    "    else:\n",
    "        print(\"No laddus left!\")"
   ]
  },
  {
   "cell_type": "markdown",
   "id": "abbb37d8",
   "metadata": {},
   "source": [
    "Assignment"
   ]
  },
  {
   "cell_type": "markdown",
   "id": "c7f1924c",
   "metadata": {},
   "source": [
    "    1. Multiples of 3:\n",
    "\n",
    "    Write a for loop that prints all multiples of 3 between 1 and 30."
   ]
  },
  {
   "cell_type": "code",
   "execution_count": 21,
   "id": "f05203e0",
   "metadata": {},
   "outputs": [
    {
     "name": "stdout",
     "output_type": "stream",
     "text": [
      "3 * 1 = 3\n",
      "3 * 2 = 6\n",
      "3 * 3 = 9\n",
      "3 * 4 = 12\n",
      "3 * 5 = 15\n",
      "3 * 6 = 18\n",
      "3 * 7 = 21\n",
      "3 * 8 = 24\n",
      "3 * 9 = 27\n",
      "3 * 10 = 30\n",
      "3 * 11 = 33\n",
      "3 * 12 = 36\n",
      "3 * 13 = 39\n",
      "3 * 14 = 42\n",
      "3 * 15 = 45\n",
      "3 * 16 = 48\n",
      "3 * 17 = 51\n",
      "3 * 18 = 54\n",
      "3 * 19 = 57\n",
      "3 * 20 = 60\n",
      "3 * 21 = 63\n",
      "3 * 22 = 66\n",
      "3 * 23 = 69\n",
      "3 * 24 = 72\n",
      "3 * 25 = 75\n",
      "3 * 26 = 78\n",
      "3 * 27 = 81\n",
      "3 * 28 = 84\n",
      "3 * 29 = 87\n",
      "3 * 30 = 90\n"
     ]
    }
   ],
   "source": [
    "for num in range(1, 31):\n",
    "    print(f\"3 * {num} = {3 * num}\")"
   ]
  },
  {
   "cell_type": "markdown",
   "id": "6def4eea",
   "metadata": {},
   "source": [
    "    2. Sum of First 10 Numbers:\n",
    "\n",
    "    Write a program using a for loop that calculates the sum of numbers from 1 to 10."
   ]
  },
  {
   "cell_type": "code",
   "execution_count": 22,
   "id": "ba6c91fe",
   "metadata": {},
   "outputs": [
    {
     "name": "stdout",
     "output_type": "stream",
     "text": [
      "Sum of numbers from 1 to 10 is: 55\n"
     ]
    }
   ],
   "source": [
    "total = 0\n",
    "for num in range(1,11):\n",
    "    total += num #total = total + num\n",
    "print(\"Sum of numbers from 1 to 10 is:\",total)"
   ]
  },
  {
   "cell_type": "markdown",
   "id": "4e185ce8",
   "metadata": {},
   "source": [
    "3. Print Your Name Letter by Letter:\n",
    "\n",
    "    Write a program that takes your name as input and prints each letter of your name using a for loop."
   ]
  },
  {
   "cell_type": "code",
   "execution_count": 23,
   "id": "a487369c",
   "metadata": {},
   "outputs": [
    {
     "name": "stdout",
     "output_type": "stream",
     "text": [
      "Enter your name: Keerthana\n",
      "K\n",
      "e\n",
      "e\n",
      "r\n",
      "t\n",
      "h\n",
      "a\n",
      "n\n",
      "a\n"
     ]
    }
   ],
   "source": [
    "name = input(\"Enter your name: \")\n",
    "for letter in name:\n",
    "    print(letter)"
   ]
  },
  {
   "cell_type": "markdown",
   "id": "d8b7d1f0",
   "metadata": {},
   "source": [
    "4. Count Vowels in a String:\n",
    "\n",
    "    Write a program that counts how many vowels are in a given string using a for loop."
   ]
  },
  {
   "cell_type": "code",
   "execution_count": 29,
   "id": "1d1edffd",
   "metadata": {},
   "outputs": [
    {
     "name": "stdout",
     "output_type": "stream",
     "text": [
      "Enter a string: Python\n",
      "Number of vowels: 1\n"
     ]
    }
   ],
   "source": [
    "text = input(\"Enter a string: \")\n",
    "vowels = \"aeiouAEIOU\"\n",
    "count = 0\n",
    "\n",
    "for char in text:\n",
    "    if char in vowels:\n",
    "        count = count + 1\n",
    "        \n",
    "print(\"Number of vowels:\",count)"
   ]
  },
  {
   "cell_type": "code",
   "execution_count": null,
   "id": "d57409ba",
   "metadata": {},
   "outputs": [],
   "source": []
  }
 ],
 "metadata": {
  "kernelspec": {
   "display_name": "Python 3 (ipykernel)",
   "language": "python",
   "name": "python3"
  },
  "language_info": {
   "codemirror_mode": {
    "name": "ipython",
    "version": 3
   },
   "file_extension": ".py",
   "mimetype": "text/x-python",
   "name": "python",
   "nbconvert_exporter": "python",
   "pygments_lexer": "ipython3",
   "version": "3.11.5"
  }
 },
 "nbformat": 4,
 "nbformat_minor": 5
}
