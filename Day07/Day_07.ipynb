{
 "cells": [
  {
   "cell_type": "markdown",
   "id": "13fc1091",
   "metadata": {},
   "source": [
    "# Dictionaries in Python"
   ]
  },
  {
   "cell_type": "markdown",
   "id": "0a835817",
   "metadata": {},
   "source": [
    "1. Creating a Dictionary"
   ]
  },
  {
   "cell_type": "markdown",
   "id": "a4761871",
   "metadata": {},
   "source": [
    "Syntax:"
   ]
  },
  {
   "cell_type": "markdown",
   "id": "da1a5ae9",
   "metadata": {},
   "source": [
    "my_dict = {\n",
    "    \"key1\": \"value1\",\n",
    "    \"key2\": \"value2\",\n",
    "    \"key3\": \"value3\"\n",
    "}"
   ]
  },
  {
   "cell_type": "code",
   "execution_count": 2,
   "id": "b479e315",
   "metadata": {},
   "outputs": [],
   "source": [
    "karnataka_food = {\n",
    "    \"Bengaluru\": \"Bisi Bele Bath\",\n",
    "    \"Mysuru\": \"Mysore Pak\",\n",
    "    \"Mangaluru\": \"Neer Dosa\"\n",
    "}"
   ]
  },
  {
   "cell_type": "markdown",
   "id": "24fcd41f",
   "metadata": {},
   "source": [
    "2. Accessing Dictionary Elements"
   ]
  },
  {
   "cell_type": "code",
   "execution_count": 3,
   "id": "d46799ce",
   "metadata": {},
   "outputs": [
    {
     "name": "stdout",
     "output_type": "stream",
     "text": [
      "Mysore Pak\n"
     ]
    }
   ],
   "source": [
    "print(karnataka_food[\"Mysuru\"])"
   ]
  },
  {
   "cell_type": "code",
   "execution_count": 4,
   "id": "bfda6b9e",
   "metadata": {},
   "outputs": [
    {
     "name": "stdout",
     "output_type": "stream",
     "text": [
      "Neer Dosa\n",
      "Not Found\n"
     ]
    }
   ],
   "source": [
    "print(karnataka_food.get(\"Mangaluru\")) \n",
    "print(karnataka_food.get(\"Shivamogga\", \"Not Found\")) "
   ]
  },
  {
   "cell_type": "markdown",
   "id": "1b12a8a8",
   "metadata": {},
   "source": [
    "3. Adding and Updating Dictionary Elements"
   ]
  },
  {
   "cell_type": "markdown",
   "id": "da6c976c",
   "metadata": {},
   "source": [
    "Adding an Item:"
   ]
  },
  {
   "cell_type": "code",
   "execution_count": 5,
   "id": "b08f1390",
   "metadata": {},
   "outputs": [
    {
     "name": "stdout",
     "output_type": "stream",
     "text": [
      "{'Bengaluru': 'Bisi Bele Bath', 'Mysuru': 'Mysore Pak', 'Mangaluru': 'Neer Dosa', 'Shivamogga': 'Kadubu'}\n"
     ]
    }
   ],
   "source": [
    "karnataka_food[\"Shivamogga\"] = \"Kadubu\"\n",
    "print(karnataka_food)"
   ]
  },
  {
   "cell_type": "markdown",
   "id": "4056cd49",
   "metadata": {},
   "source": [
    "Updating an Item:"
   ]
  },
  {
   "cell_type": "code",
   "execution_count": 7,
   "id": "d08783f8",
   "metadata": {},
   "outputs": [
    {
     "name": "stdout",
     "output_type": "stream",
     "text": [
      "{'Bengaluru': 'Ragi Mudde', 'Mysuru': 'Mysore Pak', 'Mangaluru': 'Neer Dosa', 'Shivamogga': 'Kadubu'}\n"
     ]
    }
   ],
   "source": [
    "karnataka_food[\"Bengaluru\"] = \"Ragi Mudde\"\n",
    "print(karnataka_food)"
   ]
  },
  {
   "cell_type": "markdown",
   "id": "5673cac5",
   "metadata": {},
   "source": [
    "4. Removing Elements from a Dictionary"
   ]
  },
  {
   "cell_type": "code",
   "execution_count": 8,
   "id": "872292b8",
   "metadata": {},
   "outputs": [
    {
     "name": "stdout",
     "output_type": "stream",
     "text": [
      "Mysore Pak\n"
     ]
    }
   ],
   "source": [
    "#pop():\n",
    "mysuru_food = karnataka_food.pop(\"Mysuru\")\n",
    "print(mysuru_food)"
   ]
  },
  {
   "cell_type": "code",
   "execution_count": 9,
   "id": "44922375",
   "metadata": {},
   "outputs": [],
   "source": [
    "#del():\n",
    "del karnataka_food[\"Mangaluru\"]"
   ]
  },
  {
   "cell_type": "code",
   "execution_count": 10,
   "id": "f2b508af",
   "metadata": {},
   "outputs": [
    {
     "name": "stdout",
     "output_type": "stream",
     "text": [
      "{'Bengaluru': 'Ragi Mudde', 'Shivamogga': 'Kadubu'}\n"
     ]
    }
   ],
   "source": [
    "print(karnataka_food)"
   ]
  },
  {
   "cell_type": "code",
   "execution_count": 11,
   "id": "6ba29e4d",
   "metadata": {},
   "outputs": [],
   "source": [
    "#clear()\n",
    "karnataka_food.clear()"
   ]
  },
  {
   "cell_type": "code",
   "execution_count": 12,
   "id": "f6d8443c",
   "metadata": {},
   "outputs": [
    {
     "name": "stdout",
     "output_type": "stream",
     "text": [
      "{}\n"
     ]
    }
   ],
   "source": [
    "print(karnataka_food)"
   ]
  },
  {
   "cell_type": "markdown",
   "id": "c8312757",
   "metadata": {},
   "source": [
    "5. Dictionary Methods"
   ]
  },
  {
   "cell_type": "code",
   "execution_count": 17,
   "id": "ee2511be",
   "metadata": {},
   "outputs": [],
   "source": [
    "karnataka_food = {\n",
    "    \"Bengaluru\": \"Bisi Bele Bath\",\n",
    "    \"Mysuru\": \"Mysore Pak\",\n",
    "    \"Mangaluru\": \"Neer Dosa\"\n",
    "}"
   ]
  },
  {
   "cell_type": "code",
   "execution_count": 18,
   "id": "c9e9fc89",
   "metadata": {},
   "outputs": [
    {
     "name": "stdout",
     "output_type": "stream",
     "text": [
      "dict_keys(['Bengaluru', 'Mysuru', 'Mangaluru'])\n"
     ]
    }
   ],
   "source": [
    "#keys():\n",
    "print(karnataka_food.keys())"
   ]
  },
  {
   "cell_type": "code",
   "execution_count": 19,
   "id": "1d07af6a",
   "metadata": {},
   "outputs": [
    {
     "name": "stdout",
     "output_type": "stream",
     "text": [
      "dict_values(['Bisi Bele Bath', 'Mysore Pak', 'Neer Dosa'])\n"
     ]
    }
   ],
   "source": [
    "#values():\n",
    "print(karnataka_food.values()) "
   ]
  },
  {
   "cell_type": "code",
   "execution_count": 20,
   "id": "0535b51c",
   "metadata": {},
   "outputs": [
    {
     "name": "stdout",
     "output_type": "stream",
     "text": [
      "dict_items([('Bengaluru', 'Bisi Bele Bath'), ('Mysuru', 'Mysore Pak'), ('Mangaluru', 'Neer Dosa')])\n"
     ]
    }
   ],
   "source": [
    "#items():\n",
    "print(karnataka_food.items())"
   ]
  },
  {
   "cell_type": "code",
   "execution_count": 21,
   "id": "16a1ed19",
   "metadata": {},
   "outputs": [],
   "source": [
    "#update():\n",
    "new_dishes = {\"Hubballi\": \"Girmit\"}\n",
    "karnataka_food.update(new_dishes)"
   ]
  },
  {
   "cell_type": "code",
   "execution_count": 22,
   "id": "3dfc6f16",
   "metadata": {},
   "outputs": [
    {
     "name": "stdout",
     "output_type": "stream",
     "text": [
      "{'Bengaluru': 'Bisi Bele Bath', 'Mysuru': 'Mysore Pak', 'Mangaluru': 'Neer Dosa', 'Hubballi': 'Girmit'}\n"
     ]
    }
   ],
   "source": [
    "print(karnataka_food)"
   ]
  },
  {
   "cell_type": "markdown",
   "id": "a93f5a1a",
   "metadata": {},
   "source": [
    "Assignment:"
   ]
  },
  {
   "cell_type": "markdown",
   "id": "a5f836b3",
   "metadata": {},
   "source": [
    "    1. \n",
    "\n",
    "Basic Dictionary Operations:\n",
    "\n",
    "    Create a dictionary to store information about 5 cities in Karnataka and their famous dishes.\n",
    "    Add a new city and its dish to the dictionary.\n",
    "    Update the dish for Bengaluru.\n",
    "    Remove one city from the dictionary.\n",
    "    Use the keys() method to print all city names in the dictionary.\n",
    "    Use the values() method to print all dishes in the dictionary.\n",
    "\n"
   ]
  },
  {
   "cell_type": "code",
   "execution_count": 25,
   "id": "34f48a7b",
   "metadata": {},
   "outputs": [
    {
     "name": "stdout",
     "output_type": "stream",
     "text": [
      "Initial Dictionary: {'Bengaluru': 'Bisi Bele Bath', 'Mysuru': 'Mysore Pak', 'Udupi': 'Udupi Sambar', 'Dharwad': 'Dharwad Peda', 'Mangalore': 'Neer Dosa'}\n"
     ]
    }
   ],
   "source": [
    "#Create a dictionary of 5 cities in Karnataka and their famous dishes\n",
    "\n",
    "karnataka_dishes = {\n",
    "    \"Bengaluru\": \"Bisi Bele Bath\",\n",
    "    \"Mysuru\": \"Mysore Pak\",\n",
    "    \"Udupi\": \"Udupi Sambar\",\n",
    "    \"Dharwad\": \"Dharwad Peda\",\n",
    "    \"Mangalore\": \"Neer Dosa\"\n",
    "}\n",
    "\n",
    "print(\"Initial Dictionary:\", karnataka_dishes)"
   ]
  },
  {
   "cell_type": "code",
   "execution_count": 26,
   "id": "e4f4eb2d",
   "metadata": {},
   "outputs": [
    {
     "name": "stdout",
     "output_type": "stream",
     "text": [
      "After Adding Hubli: {'Bengaluru': 'Bisi Bele Bath', 'Mysuru': 'Mysore Pak', 'Udupi': 'Udupi Sambar', 'Dharwad': 'Dharwad Peda', 'Mangalore': 'Neer Dosa', 'Hubli': 'Jolad Roti'}\n"
     ]
    }
   ],
   "source": [
    "#2. Add a new city and its dish\n",
    "\n",
    "karnataka_dishes[\"Hubli\"] = \"Jolad Roti\"\n",
    "print(\"After Adding Hubli:\", karnataka_dishes)"
   ]
  },
  {
   "cell_type": "code",
   "execution_count": 27,
   "id": "0bfff21f",
   "metadata": {},
   "outputs": [
    {
     "name": "stdout",
     "output_type": "stream",
     "text": [
      "After Updating Bengaluru: {'Bengaluru': 'Ragi Mudde', 'Mysuru': 'Mysore Pak', 'Udupi': 'Udupi Sambar', 'Dharwad': 'Dharwad Peda', 'Mangalore': 'Neer Dosa', 'Hubli': 'Jolad Roti'}\n"
     ]
    }
   ],
   "source": [
    "#3. Update the dish for Bengaluru\n",
    "\n",
    "karnataka_dishes[\"Bengaluru\"] = \"Ragi Mudde\"\n",
    "print(\"After Updating Bengaluru:\", karnataka_dishes)\n"
   ]
  },
  {
   "cell_type": "code",
   "execution_count": 28,
   "id": "857068dd",
   "metadata": {},
   "outputs": [
    {
     "name": "stdout",
     "output_type": "stream",
     "text": [
      "After Removing Dharwad: {'Bengaluru': 'Ragi Mudde', 'Mysuru': 'Mysore Pak', 'Udupi': 'Udupi Sambar', 'Mangalore': 'Neer Dosa', 'Hubli': 'Jolad Roti'}\n"
     ]
    }
   ],
   "source": [
    "#4. Remove one city from the dictionary\n",
    "\n",
    "karnataka_dishes.pop(\"Dharwad\")  # You can also use del karnataka_dishes[\"Dharwad\"]\n",
    "print(\"After Removing Dharwad:\", karnataka_dishes)"
   ]
  },
  {
   "cell_type": "code",
   "execution_count": 29,
   "id": "d899beb6",
   "metadata": {},
   "outputs": [
    {
     "name": "stdout",
     "output_type": "stream",
     "text": [
      "All Cities: dict_keys(['Bengaluru', 'Mysuru', 'Udupi', 'Mangalore', 'Hubli'])\n"
     ]
    }
   ],
   "source": [
    "#5. Print all city names using keys()\n",
    "\n",
    "print(\"All Cities:\", karnataka_dishes.keys())"
   ]
  },
  {
   "cell_type": "code",
   "execution_count": 30,
   "id": "43479f60",
   "metadata": {},
   "outputs": [
    {
     "name": "stdout",
     "output_type": "stream",
     "text": [
      "All Dishes: dict_values(['Ragi Mudde', 'Mysore Pak', 'Udupi Sambar', 'Neer Dosa', 'Jolad Roti'])\n"
     ]
    }
   ],
   "source": [
    "#6. Print all dishes using values()\n",
    "\n",
    "print(\"All Dishes:\", karnataka_dishes.values())"
   ]
  },
  {
   "cell_type": "markdown",
   "id": "67fdea90",
   "metadata": {},
   "source": [
    "2. Nested Dictionary Practice (Simple for now):\n",
    "\n",
    "    Create a dictionary to store details of two of your friends, including their names, favorite subject, and favorite food.\n",
    "    Access and print the favorite food of one friend.\n",
    "\n"
   ]
  },
  {
   "cell_type": "code",
   "execution_count": 31,
   "id": "819a5bba",
   "metadata": {},
   "outputs": [],
   "source": [
    " #1. Create the nested dictionary\n",
    "\n",
    "friends = {\n",
    "    \"friend1\": {\n",
    "        \"name\": \"Aisha\",\n",
    "        \"favorite_subject\": \"Math\",\n",
    "        \"favorite_food\": \"Biryani\"\n",
    "    },\n",
    "    \"friend2\": {\n",
    "        \"name\": \"Rahul\",\n",
    "        \"favorite_subject\": \"Science\",\n",
    "        \"favorite_food\": \"Dosa\"\n",
    "    }\n",
    "}"
   ]
  },
  {
   "cell_type": "code",
   "execution_count": 32,
   "id": "6ea953b4",
   "metadata": {},
   "outputs": [
    {
     "name": "stdout",
     "output_type": "stream",
     "text": [
      "Friend1's Favorite Food: Biryani\n"
     ]
    }
   ],
   "source": [
    "#2. Access and print the favorite food of one friend\n",
    "\n",
    "print(\"Friend1's Favorite Food:\", friends[\"friend1\"][\"favorite_food\"])\n"
   ]
  }
 ],
 "metadata": {
  "kernelspec": {
   "display_name": "Python 3 (ipykernel)",
   "language": "python",
   "name": "python3"
  },
  "language_info": {
   "codemirror_mode": {
    "name": "ipython",
    "version": 3
   },
   "file_extension": ".py",
   "mimetype": "text/x-python",
   "name": "python",
   "nbconvert_exporter": "python",
   "pygments_lexer": "ipython3",
   "version": "3.11.5"
  }
 },
 "nbformat": 4,
 "nbformat_minor": 5
}
