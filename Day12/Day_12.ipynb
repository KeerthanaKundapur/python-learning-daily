{
 "cells": [
  {
   "cell_type": "markdown",
   "id": "d1fc3912",
   "metadata": {},
   "source": [
    "# Functions"
   ]
  },
  {
   "cell_type": "markdown",
   "id": "b5f1f2ad",
   "metadata": {},
   "source": [
    "Defining a Function"
   ]
  },
  {
   "cell_type": "markdown",
   "id": "661e7745",
   "metadata": {},
   "source": [
    "def function_name(parameters):\n",
    "   \n",
    "   #Block of code"
   ]
  },
  {
   "cell_type": "code",
   "execution_count": 1,
   "id": "5b6c063f",
   "metadata": {},
   "outputs": [
    {
     "name": "stdout",
     "output_type": "stream",
     "text": [
      "Hello Welcome to the Python course.\n"
     ]
    }
   ],
   "source": [
    "#Basic function to greet a user\n",
    "def greet():\n",
    "    print(\"Hello Welcome to the Python course.\")\n",
    "greet()"
   ]
  },
  {
   "cell_type": "markdown",
   "id": "3b7a1a24",
   "metadata": {},
   "source": [
    "Function Parameters"
   ]
  },
  {
   "cell_type": "code",
   "execution_count": 2,
   "id": "bde82059",
   "metadata": {},
   "outputs": [
    {
     "name": "stdout",
     "output_type": "stream",
     "text": [
      "Hello, Anand! Welcome to the Python course.\n"
     ]
    }
   ],
   "source": [
    "#Function with a parameter\n",
    "def greet_user(name):\n",
    "    print(f\"Hello, {name}! Welcome to the Python course.\")\n",
    "greet_user(\"Anand\")"
   ]
  },
  {
   "cell_type": "markdown",
   "id": "38d9537b",
   "metadata": {},
   "source": [
    "Returning Values from a Function"
   ]
  },
  {
   "cell_type": "code",
   "execution_count": 7,
   "id": "59524e06",
   "metadata": {},
   "outputs": [
    {
     "name": "stdout",
     "output_type": "stream",
     "text": [
      "The sum is: 30\n"
     ]
    }
   ],
   "source": [
    "#Function that adds two numbers and returns the result\n",
    "def add_numbers(a,b):\n",
    "    return a+b\n",
    "result = add_numbers(10,20)\n",
    "print(\"The sum is:\",result)"
   ]
  },
  {
   "cell_type": "markdown",
   "id": "136fbadb",
   "metadata": {},
   "source": [
    "Default Parameter Values"
   ]
  },
  {
   "cell_type": "code",
   "execution_count": 8,
   "id": "595ee459",
   "metadata": {},
   "outputs": [
    {
     "name": "stdout",
     "output_type": "stream",
     "text": [
      "Hello,Student! Welcome to the Python course.\n",
      "Hello,Geetha! Welcome to the Python course.\n"
     ]
    }
   ],
   "source": [
    "#Function with a default parameter\n",
    "def greet(name = \"Student\"):\n",
    "    print(f\"Hello,{name}! Welcome to the Python course.\")\n",
    "greet() #Uses default value \"Student\"\n",
    "greet(\"Geetha\") #Uses passed value \"Geetha\""
   ]
  },
  {
   "cell_type": "markdown",
   "id": "2622f3a2",
   "metadata": {},
   "source": [
    "Local and Global Variables"
   ]
  },
  {
   "cell_type": "code",
   "execution_count": 9,
   "id": "70c1e93d",
   "metadata": {},
   "outputs": [
    {
     "name": "stdout",
     "output_type": "stream",
     "text": [
      "Local Name\n",
      "Global Name\n"
     ]
    }
   ],
   "source": [
    "name = \"Global Name\"\n",
    "\n",
    "def greet():\n",
    "    name = \"Local Name\"\n",
    "    print(name)\n",
    "    \n",
    "greet() #Prints local variable\n",
    "print(name) #Prints global variable"
   ]
  },
  {
   "cell_type": "markdown",
   "id": "ce35c9d7",
   "metadata": {},
   "source": [
    "Assignment"
   ]
  },
  {
   "cell_type": "markdown",
   "id": "5b9a8345",
   "metadata": {},
   "source": [
    "1. Greet Function: Write a function greet() that takes no arguments and prints a greeting message."
   ]
  },
  {
   "cell_type": "code",
   "execution_count": 11,
   "id": "5fb18393",
   "metadata": {},
   "outputs": [
    {
     "name": "stdout",
     "output_type": "stream",
     "text": [
      "Hello World!\n"
     ]
    }
   ],
   "source": [
    "def greet():\n",
    "    print(\"Hello World!\")\n",
    "    \n",
    "greet()"
   ]
  },
  {
   "cell_type": "markdown",
   "id": "e2eea12b",
   "metadata": {},
   "source": [
    "2. Parameterized Greet: Write a function greet_user() that takes a name as input and prints a custom greeting."
   ]
  },
  {
   "cell_type": "code",
   "execution_count": 14,
   "id": "adcbc256",
   "metadata": {
    "scrolled": true
   },
   "outputs": [
    {
     "name": "stdout",
     "output_type": "stream",
     "text": [
      "Hello Shruthi, Welcome to Python\n"
     ]
    }
   ],
   "source": [
    "def greet_user(name):\n",
    "    print(f\"Hello {name}, Welcome to Python\")\n",
    "    \n",
    "greet_user(\"Shruthi\")"
   ]
  },
  {
   "cell_type": "markdown",
   "id": "d603d9e9",
   "metadata": {},
   "source": [
    "3. Sum Function: Write a function add_numbers(a, b) that returns the sum of two numbers. Call this function with different values."
   ]
  },
  {
   "cell_type": "code",
   "execution_count": 13,
   "id": "040f44c1",
   "metadata": {},
   "outputs": [
    {
     "name": "stdout",
     "output_type": "stream",
     "text": [
      "The sum of a and b is:  26\n"
     ]
    }
   ],
   "source": [
    "def add_numbers(a,b):\n",
    "    return a+b\n",
    "result = add_numbers(12,14)\n",
    "print(\"The sum of a and b is: \",result)"
   ]
  },
  {
   "cell_type": "code",
   "execution_count": null,
   "id": "a53537d2",
   "metadata": {},
   "outputs": [],
   "source": []
  }
 ],
 "metadata": {
  "kernelspec": {
   "display_name": "Python 3 (ipykernel)",
   "language": "python",
   "name": "python3"
  },
  "language_info": {
   "codemirror_mode": {
    "name": "ipython",
    "version": 3
   },
   "file_extension": ".py",
   "mimetype": "text/x-python",
   "name": "python",
   "nbconvert_exporter": "python",
   "pygments_lexer": "ipython3",
   "version": "3.11.5"
  }
 },
 "nbformat": 4,
 "nbformat_minor": 5
}
