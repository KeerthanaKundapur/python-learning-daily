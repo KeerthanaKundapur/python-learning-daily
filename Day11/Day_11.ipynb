{
 "cells": [
  {
   "cell_type": "markdown",
   "id": "fbd9518f",
   "metadata": {},
   "source": [
    "# Lists and Dictionaries with For Loops, List Comprehension, and Dictionary Comprehension"
   ]
  },
  {
   "cell_type": "markdown",
   "id": "cbd53d4c",
   "metadata": {},
   "source": [
    "1. Looping Through Lists"
   ]
  },
  {
   "cell_type": "code",
   "execution_count": 1,
   "id": "85e1c851",
   "metadata": {},
   "outputs": [
    {
     "name": "stdout",
     "output_type": "stream",
     "text": [
      "Total sum:  150\n"
     ]
    }
   ],
   "source": [
    "#Sum of all numbers in a list\n",
    "numbers = [10,20,30,40,50]\n",
    "total = 0\n",
    "for num in numbers:\n",
    "    total = total + num\n",
    "print(\"Total sum: \",total)"
   ]
  },
  {
   "cell_type": "code",
   "execution_count": 3,
   "id": "d7e5b782",
   "metadata": {},
   "outputs": [
    {
     "name": "stdout",
     "output_type": "stream",
     "text": [
      "Double List: [2, 4, 6, 8, 10]\n"
     ]
    }
   ],
   "source": [
    "#Doubling each number in a list\n",
    "numbers = [1,2,3,4,5]\n",
    "doubled = []\n",
    "for num in numbers:\n",
    "    doubled.append(num*2)\n",
    "print(\"Double List:\",doubled)"
   ]
  },
  {
   "cell_type": "code",
   "execution_count": 4,
   "id": "25a9b20c",
   "metadata": {},
   "outputs": [
    {
     "name": "stdout",
     "output_type": "stream",
     "text": [
      "I like Dosa\n",
      "I like Idli\n",
      "I like Vada\n",
      "I like Bisibelebath\n"
     ]
    }
   ],
   "source": [
    "#Printing Food items\n",
    "foods = [\"Dosa\",\"Idli\",\"Vada\",\"Bisibelebath\"]\n",
    "for food in foods:\n",
    "    print(f\"I like {food}\")"
   ]
  },
  {
   "cell_type": "markdown",
   "id": "a386319d",
   "metadata": {},
   "source": [
    "2. Looping Through Dictionaries"
   ]
  },
  {
   "cell_type": "code",
   "execution_count": 5,
   "id": "6fa00f8f",
   "metadata": {},
   "outputs": [
    {
     "name": "stdout",
     "output_type": "stream",
     "text": [
      "Anand\n",
      "Geetha\n",
      "Kumar\n"
     ]
    }
   ],
   "source": [
    "#Iterating over dictionary keys\n",
    "student_marks = {\"Anand\": 85, \"Geetha\": 90, \"Kumar\": 78}\n",
    "\n",
    "for student in student_marks:\n",
    "    print(student)"
   ]
  },
  {
   "cell_type": "code",
   "execution_count": 9,
   "id": "5f1261f1",
   "metadata": {},
   "outputs": [
    {
     "name": "stdout",
     "output_type": "stream",
     "text": [
      "85\n",
      "90\n",
      "78\n"
     ]
    }
   ],
   "source": [
    "#Iterating over dictionary values\n",
    "\n",
    "student_marks = {\"Anand\": 85, \"Geetha\": 90, \"Kumar\": 78}\n",
    "\n",
    "for marks in student_marks.values():\n",
    "    print(marks)"
   ]
  },
  {
   "cell_type": "code",
   "execution_count": 10,
   "id": "be44d1e7",
   "metadata": {},
   "outputs": [
    {
     "name": "stdout",
     "output_type": "stream",
     "text": [
      "Anand scored 85 marks\n",
      "Geetha scored 90 marks\n",
      "Kumar scored 78 marks\n"
     ]
    }
   ],
   "source": [
    "#Iterating over dictionary keys and values\n",
    "\n",
    "student_marks = {\"Anand\": 85, \"Geetha\": 90, \"Kumar\": 78}\n",
    "\n",
    "for student,marks in student_marks.items():\n",
    "    print(f\"{student} scored {marks} marks\")"
   ]
  },
  {
   "cell_type": "markdown",
   "id": "61a48b01",
   "metadata": {},
   "source": [
    "3. for Loops with range()"
   ]
  },
  {
   "cell_type": "code",
   "execution_count": 11,
   "id": "d52cedaf",
   "metadata": {},
   "outputs": [
    {
     "name": "stdout",
     "output_type": "stream",
     "text": [
      "{'Anand': 85, 'Geetha': 90, 'Kumar': 78}\n"
     ]
    }
   ],
   "source": [
    "#Adding marks to students using index values\n",
    "students = [\"Anand\",\"Geetha\",\"Kumar\"]\n",
    "marks = [85,90,78]\n",
    "student_marks = {}\n",
    "for i in range(len(students)):\n",
    "    student_marks[students[i]] = marks[i]\n",
    "print(student_marks)"
   ]
  },
  {
   "cell_type": "markdown",
   "id": "dc05f92d",
   "metadata": {},
   "source": [
    "4. List Comprehension"
   ]
  },
  {
   "cell_type": "markdown",
   "id": "f98c7649",
   "metadata": {},
   "source": [
    "    Syntax:\n",
    "    new_list = [expression for item in iterable if condition]"
   ]
  },
  {
   "cell_type": "code",
   "execution_count": 12,
   "id": "c1ad7c37",
   "metadata": {},
   "outputs": [
    {
     "name": "stdout",
     "output_type": "stream",
     "text": [
      "[1, 4, 9, 16, 25]\n"
     ]
    }
   ],
   "source": [
    "#Squaring numbers in a list\n",
    "numbers = [1,2,3,4,5]\n",
    "squares = [num ** 2 for num in numbers]\n",
    "print(squares)"
   ]
  },
  {
   "cell_type": "code",
   "execution_count": 13,
   "id": "eb33f5b6",
   "metadata": {},
   "outputs": [
    {
     "name": "stdout",
     "output_type": "stream",
     "text": [
      "[2, 4, 6]\n"
     ]
    }
   ],
   "source": [
    "#Filtering even numbers\n",
    "numbers = [1,2,3,4,5,6]\n",
    "even_numbers = [num for num in numbers if num % 2 == 0]\n",
    "print(even_numbers)"
   ]
  },
  {
   "cell_type": "code",
   "execution_count": 20,
   "id": "dcb42da2",
   "metadata": {},
   "outputs": [
    {
     "name": "stdout",
     "output_type": "stream",
     "text": [
      "['BENGALURU', 'MYSURU', 'HUBBALLI', 'MANGALURU']\n"
     ]
    }
   ],
   "source": [
    "#Uppercasing Kannada city names\n",
    "cities = [\"Bengaluru\", \"Mysuru\", \"Hubballi\", \"Mangaluru\"]\n",
    "uppercased_cities = [city.upper() for city in cities]\n",
    "print(uppercased_cities)"
   ]
  },
  {
   "cell_type": "markdown",
   "id": "0071acd7",
   "metadata": {},
   "source": [
    "5. Dictionary Comprehension"
   ]
  },
  {
   "cell_type": "markdown",
   "id": "b79c9426",
   "metadata": {},
   "source": [
    "    Syntax:\n",
    "    new_dict = {key_expression:value_expression for item in iterable if condition}"
   ]
  },
  {
   "cell_type": "code",
   "execution_count": 21,
   "id": "acdb2a49",
   "metadata": {},
   "outputs": [
    {
     "name": "stdout",
     "output_type": "stream",
     "text": [
      "{1: 1, 2: 4, 3: 9, 4: 16, 5: 25}\n"
     ]
    }
   ],
   "source": [
    "#Creating a dictionary of squares\n",
    "numbers = [1,2,3,4,5]\n",
    "squares_dict = {num:num**2 for num in numbers}\n",
    "print(squares_dict)"
   ]
  },
  {
   "cell_type": "code",
   "execution_count": 29,
   "id": "47fd2c94",
   "metadata": {},
   "outputs": [
    {
     "name": "stdout",
     "output_type": "stream",
     "text": [
      "{'Anand': 5, 'Geetha': 6, 'Kumar': 5}\n"
     ]
    }
   ],
   "source": [
    "#Converting a list of names to a dictionary of name lengths\n",
    "names = [\"Anand\", \"Geetha\", \"Kumar\"]\n",
    "name_lengths = {name: len(name) for name in names}\n",
    "print(name_lengths)"
   ]
  },
  {
   "cell_type": "code",
   "execution_count": 30,
   "id": "1859132b",
   "metadata": {},
   "outputs": [
    {
     "name": "stdout",
     "output_type": "stream",
     "text": [
      "{'Bengaluru': 84, 'Mysuru': 11}\n"
     ]
    }
   ],
   "source": [
    "#Filtering cities with population above 10 lakhs \n",
    "city_population = {\n",
    "    \"Bengaluru\": 84,\n",
    "    \"Mysuru\": 11,\n",
    "    \"Hubballi\": 9,\n",
    "    \"Mangaluru\": 5\n",
    "}\n",
    "large_cities = {city: population for city, population in city_population.items() if population > 10}\n",
    "print(large_cities)"
   ]
  },
  {
   "cell_type": "markdown",
   "id": "56a57270",
   "metadata": {},
   "source": [
    "6. Splitting Strings to Create Lists"
   ]
  },
  {
   "cell_type": "markdown",
   "id": "c3af1321",
   "metadata": {},
   "source": [
    "    Syntax:\n",
    "    string.split(seperator,maxsplit)"
   ]
  },
  {
   "cell_type": "code",
   "execution_count": 31,
   "id": "fb8fd2d5",
   "metadata": {},
   "outputs": [
    {
     "name": "stdout",
     "output_type": "stream",
     "text": [
      "['I', 'love', 'coding', 'in', 'Python']\n"
     ]
    }
   ],
   "source": [
    "#Splitting a sentence into words\n",
    "sentence = \"I love coding in Python\"\n",
    "words = sentence.split()\n",
    "print(words)"
   ]
  },
  {
   "cell_type": "code",
   "execution_count": 32,
   "id": "62003c25",
   "metadata": {},
   "outputs": [
    {
     "name": "stdout",
     "output_type": "stream",
     "text": [
      "['apple', 'banana', 'mango']\n"
     ]
    }
   ],
   "source": [
    "#Splitting a string with commas\n",
    "data = 'apple,banana,mango'\n",
    "fruits = data.split(\",\")\n",
    "print(fruits)"
   ]
  },
  {
   "cell_type": "code",
   "execution_count": 33,
   "id": "91638ce1",
   "metadata": {},
   "outputs": [
    {
     "name": "stdout",
     "output_type": "stream",
     "text": [
      "['Python', 'is', 'fun to learn']\n"
     ]
    }
   ],
   "source": [
    "#Limiting the number of splits\n",
    "sentence = \"Python is fun to learn\"\n",
    "words = sentence.split(\" \",2)\n",
    "print(words)"
   ]
  },
  {
   "cell_type": "markdown",
   "id": "68bbff16",
   "metadata": {},
   "source": [
    "Assignment:"
   ]
  },
  {
   "cell_type": "markdown",
   "id": "81aa878b",
   "metadata": {},
   "source": [
    "1. List Manipulation:\n",
    "\n",
    "    Create a list of Kannada foods. Use list comprehension to create a new list where each food name is in uppercase."
   ]
  },
  {
   "cell_type": "code",
   "execution_count": 36,
   "id": "75044990",
   "metadata": {},
   "outputs": [
    {
     "name": "stdout",
     "output_type": "stream",
     "text": [
      "['DOSA', 'IDLI', 'UPPITTU', 'BANS']\n"
     ]
    }
   ],
   "source": [
    "Food_items = [\"Dosa\",\"Idli\",\"uppittu\",\"Bans\"]\n",
    "uppercased_Food_items = [items.upper() for items in Food_items]\n",
    "print(uppercased_Food_items)"
   ]
  },
  {
   "cell_type": "markdown",
   "id": "ae24a679",
   "metadata": {},
   "source": [
    "2. Sum of Prices:\n",
    "\n",
    "    Create a dictionary of 5 items with their prices. Write a program that calculates the total price of all items using a for loop."
   ]
  },
  {
   "cell_type": "code",
   "execution_count": 39,
   "id": "485b3085",
   "metadata": {},
   "outputs": [
    {
     "name": "stdout",
     "output_type": "stream",
     "text": [
      "117\n"
     ]
    }
   ],
   "source": [
    "items = {\"Dosa\":30,\"Idli\":25,\"Uppittu\":27,\"Bans\":35}\n",
    "Total = 0\n",
    "for item in items.values():\n",
    "    Total = Total + item\n",
    "print(Total)"
   ]
  },
  {
   "cell_type": "markdown",
   "id": "182c29ca",
   "metadata": {},
   "source": [
    "3. List of Squares:\n",
    "\n",
    "    Create a list of numbers from 1 to 10. Use list comprehension to generate a list of their squares."
   ]
  },
  {
   "cell_type": "code",
   "execution_count": 46,
   "id": "3c3ac2e2",
   "metadata": {},
   "outputs": [
    {
     "name": "stdout",
     "output_type": "stream",
     "text": [
      "Double List: [2, 4, 6, 8, 10, 12, 14, 16, 18, 20]\n"
     ]
    }
   ],
   "source": [
    "numbers = [1,2,3,4,5,6,7,8,9,10]\n",
    "doubled = []\n",
    "for num in numbers:\n",
    "    doubled.append(num*2)\n",
    "print(\"Double List:\",doubled)"
   ]
  },
  {
   "cell_type": "markdown",
   "id": "d1fa90ac",
   "metadata": {},
   "source": [
    "4. Student Data Task:\n",
    "\n",
    "    Create a list of 3 dictionaries, where each dictionary contains the name, age, and marks of a student. Loop through the list and print each student's information."
   ]
  },
  {
   "cell_type": "code",
   "execution_count": 47,
   "id": "3d38cf46",
   "metadata": {},
   "outputs": [
    {
     "name": "stdout",
     "output_type": "stream",
     "text": [
      "Name: Asha\n",
      "Age: 20\n",
      "Marks: 85\n",
      "----\n",
      "Name: Ravi\n",
      "Age: 21\n",
      "Marks: 90\n",
      "----\n",
      "Name: Meena\n",
      "Age: 19\n",
      "Marks: 92\n",
      "----\n"
     ]
    }
   ],
   "source": [
    "students = [\n",
    "    {\"name\": \"Asha\", \"age\": 20, \"marks\": 85},\n",
    "    {\"name\": \"Ravi\", \"age\": 21, \"marks\": 90},\n",
    "    {\"name\": \"Meena\", \"age\": 19, \"marks\": 92}\n",
    "]\n",
    "\n",
    "for student in students:\n",
    "    print(\"Name:\", student[\"name\"])\n",
    "    print(\"Age:\", student[\"age\"])\n",
    "    print(\"Marks:\", student[\"marks\"])\n",
    "    print(\"----\")"
   ]
  },
  {
   "cell_type": "markdown",
   "id": "2cdbc205",
   "metadata": {},
   "source": [
    "5. Dictionary Comprehension:\n",
    "\n",
    "    Create a dictionary where the keys are Kannada cities, and the values are their populations. Use dictionary comprehension to filter out cities with populations below 10 lakhs."
   ]
  },
  {
   "cell_type": "code",
   "execution_count": 48,
   "id": "2d74b011",
   "metadata": {},
   "outputs": [
    {
     "name": "stdout",
     "output_type": "stream",
     "text": [
      "{'Bengaluru': 13000000, 'Hubballi': 1100000}\n"
     ]
    }
   ],
   "source": [
    "cities = {\n",
    "    \"Bengaluru\": 13000000,\n",
    "    \"Mysuru\": 900000,\n",
    "    \"Mangaluru\": 600000,\n",
    "    \"Hubballi\": 1100000,\n",
    "    \"Belagavi\": 490000\n",
    "}\n",
    "\n",
    "filtered_cities = {city: pop for city, pop in cities.items() if pop >= 1000000}\n",
    "print(filtered_cities)\n"
   ]
  },
  {
   "cell_type": "code",
   "execution_count": null,
   "id": "0c903ded",
   "metadata": {},
   "outputs": [],
   "source": []
  }
 ],
 "metadata": {
  "kernelspec": {
   "display_name": "Python 3 (ipykernel)",
   "language": "python",
   "name": "python3"
  },
  "language_info": {
   "codemirror_mode": {
    "name": "ipython",
    "version": 3
   },
   "file_extension": ".py",
   "mimetype": "text/x-python",
   "name": "python",
   "nbconvert_exporter": "python",
   "pygments_lexer": "ipython3",
   "version": "3.11.5"
  }
 },
 "nbformat": 4,
 "nbformat_minor": 5
}
