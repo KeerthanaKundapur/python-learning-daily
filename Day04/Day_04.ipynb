{
 "cells": [
  {
   "cell_type": "markdown",
   "id": "1d3c78b6",
   "metadata": {},
   "source": [
    "# Operators In Python"
   ]
  },
  {
   "cell_type": "markdown",
   "id": "9c1c8c89",
   "metadata": {},
   "source": [
    "1.Assignment Operators"
   ]
  },
  {
   "cell_type": "code",
   "execution_count": 3,
   "id": "1cccfa90",
   "metadata": {},
   "outputs": [
    {
     "name": "stdout",
     "output_type": "stream",
     "text": [
      "5\n",
      "8\n",
      "6\n",
      "24\n",
      "4.0\n"
     ]
    }
   ],
   "source": [
    "x = 5  #Assign 5 to x\n",
    "print(x)\n",
    "x += 3   #Equivalent to x=x+3\n",
    "print(x)\n",
    "x -= 2   #Equivalent to x=x-2\n",
    "print(x)\n",
    "x *= 4   #Equivalent to x=x*4\n",
    "print(x)\n",
    "x /= 6   #Equivalent to x=x/6\n",
    "print(x)"
   ]
  },
  {
   "cell_type": "markdown",
   "id": "ce2c2bd2",
   "metadata": {},
   "source": [
    "2.Comparision Operators"
   ]
  },
  {
   "cell_type": "code",
   "execution_count": 5,
   "id": "f0093438",
   "metadata": {},
   "outputs": [
    {
     "name": "stdout",
     "output_type": "stream",
     "text": [
      "False\n",
      "True\n",
      "False\n",
      "True\n",
      "True\n",
      "True\n"
     ]
    }
   ],
   "source": [
    "a = 10\n",
    "b = 20\n",
    "print(a==b) \n",
    "print(a!=b)\n",
    "print(a>b)\n",
    "print(a<b)\n",
    "print(a>=10)\n",
    "print(b<=25)"
   ]
  },
  {
   "cell_type": "markdown",
   "id": "47722814",
   "metadata": {},
   "source": [
    "3.Logical Operators"
   ]
  },
  {
   "cell_type": "code",
   "execution_count": 6,
   "id": "bd7dcdce",
   "metadata": {},
   "outputs": [
    {
     "name": "stdout",
     "output_type": "stream",
     "text": [
      "True\n",
      "True\n",
      "True\n"
     ]
    }
   ],
   "source": [
    "x = 5\n",
    "y = 10\n",
    "z = 15\n",
    "\n",
    "# and operator\n",
    "print(x>0 and y>5)\n",
    "print(x>10 or z>10)\n",
    "print(not(x>10))"
   ]
  },
  {
   "cell_type": "markdown",
   "id": "3c5c01bb",
   "metadata": {},
   "source": [
    "4.Membership Operators"
   ]
  },
  {
   "cell_type": "code",
   "execution_count": 7,
   "id": "606c7dc4",
   "metadata": {},
   "outputs": [
    {
     "name": "stdout",
     "output_type": "stream",
     "text": [
      "True\n",
      "True\n",
      "True\n",
      "True\n"
     ]
    }
   ],
   "source": [
    "my_list = [1,2,3,4,5]\n",
    "my_string = 'Python'\n",
    "print(3 in my_list)\n",
    "print(6 not in my_list)\n",
    "print(\"P\" in my_string)\n",
    "print(\"z\" not in my_string)"
   ]
  },
  {
   "cell_type": "markdown",
   "id": "fed027ea",
   "metadata": {},
   "source": [
    "5.Bitwise Operators"
   ]
  },
  {
   "cell_type": "code",
   "execution_count": 8,
   "id": "058ce7df",
   "metadata": {},
   "outputs": [
    {
     "name": "stdout",
     "output_type": "stream",
     "text": [
      "1\n",
      "7\n",
      "6\n",
      "-6\n",
      "10\n",
      "2\n"
     ]
    }
   ],
   "source": [
    "a = 5\n",
    "b = 3\n",
    "\n",
    "#Bitwise AND\n",
    "print(a&b)\n",
    "\n",
    "#Bitwise OR\n",
    "print(a|b)\n",
    "\n",
    "#Bitwise XOR\n",
    "print(a^b)\n",
    "\n",
    "#Bitwise NOT\n",
    "print(~a)\n",
    "\n",
    "#Left Shift\n",
    "print(a<<1)\n",
    "\n",
    "#Right Shift\n",
    "print(a>>1)"
   ]
  },
  {
   "cell_type": "markdown",
   "id": "1b26dee4",
   "metadata": {},
   "source": [
    "6.Arithmetic Operators"
   ]
  },
  {
   "cell_type": "code",
   "execution_count": 9,
   "id": "06b2431f",
   "metadata": {},
   "outputs": [
    {
     "name": "stdout",
     "output_type": "stream",
     "text": [
      "13\n",
      "7\n",
      "30\n",
      "3.3333333333333335\n",
      "3\n",
      "1\n",
      "1000\n"
     ]
    }
   ],
   "source": [
    "a = 10\n",
    "b = 3\n",
    "print(a+b)\n",
    "print(a-b)\n",
    "print(a*b)\n",
    "print(a/b)\n",
    "print(a//b)\n",
    "print(a%b)\n",
    "print(a**b)"
   ]
  },
  {
   "cell_type": "markdown",
   "id": "bc2c605d",
   "metadata": {},
   "source": [
    "Assignment"
   ]
  },
  {
   "cell_type": "markdown",
   "id": "28acf880",
   "metadata": {},
   "source": [
    "1.Logical Operator Practice: Write a Python program that takes two numbers as input from the user and checks if:\n",
    "\n",
    "    Both numbers are greater than 10 (using and).\n",
    "    At least one of the numbers is less than 5 (using or).\n",
    "    The first number is not greater than the second (using not).\n",
    "\n"
   ]
  },
  {
   "cell_type": "code",
   "execution_count": 13,
   "id": "56b28d2e",
   "metadata": {},
   "outputs": [
    {
     "name": "stdout",
     "output_type": "stream",
     "text": [
      "Enter first Number: 2\n",
      "Enter Second Number: 4\n",
      "Both Numbers are not greater than 10.\n",
      "Atleast one number is less than 5.\n",
      "The first number is not greater than the second.\n"
     ]
    }
   ],
   "source": [
    "#Logical Operator Practice\n",
    "num1 = int(input(\"Enter first Number: \"))\n",
    "num2 = int(input(\"Enter Second Number: \"))\n",
    "\n",
    "#Both numbers are greater than 10 (using and)\n",
    "if num1>10 and num2>10:\n",
    "    print(\"Both Numbers are greater than 10.\")\n",
    "else:\n",
    "    print(\"Both Numbers are not greater than 10.\")\n",
    "    \n",
    "#At least one of the numbers is less than 5 (using or).\n",
    "if num1<5 or num2<5:\n",
    "    print(\"Atleast one number is less than 5.\")\n",
    "else:\n",
    "    print(\"Neither number is less than 5.\")\n",
    "    \n",
    "#The first number is not greater than the second (using not).\n",
    "if not(num1>num2):\n",
    "    print(\"The first number is not greater than the second.\")\n",
    "else:\n",
    "    print(\"The first number is greater than the second.\")"
   ]
  },
  {
   "cell_type": "markdown",
   "id": "05f24ab0",
   "metadata": {},
   "source": [
    "2.Comparison Operator Challenge: Create a Python program that asks the user for their age and prints:\n",
    "\n",
    "    \"You are an adult\" if the age is greater than or equal to 18.\n",
    "    \"You are a minor\" if the age is less than 18.\n",
    "    Use >= and < comparison operators."
   ]
  },
  {
   "cell_type": "code",
   "execution_count": 16,
   "id": "1dee2277",
   "metadata": {},
   "outputs": [
    {
     "name": "stdout",
     "output_type": "stream",
     "text": [
      "Enter your age: 13\n",
      "You are a minor.\n"
     ]
    }
   ],
   "source": [
    "#Comparision Operator Challenge\n",
    "age = int(input(\"Enter your age: \"))\n",
    "if age >= 18:\n",
    "    print(\"You are an adult.\")\n",
    "else:\n",
    "    print(\"You are a minor.\")"
   ]
  },
  {
   "cell_type": "markdown",
   "id": "f85e3d28",
   "metadata": {},
   "source": [
    "3.Membership Operator Exercise: Write a Python program that:\n",
    "\n",
    "    Takes a string as input from the user.\n",
    "    Checks if the letter 'a' is in the string (using in).\n",
    "    Checks if the string doesn't contain the word \"Python\" (using not in)."
   ]
  },
  {
   "cell_type": "code",
   "execution_count": 19,
   "id": "557c5ec6",
   "metadata": {},
   "outputs": [
    {
     "name": "stdout",
     "output_type": "stream",
     "text": [
      "Enter a String: Python\n",
      "The letter 'a' is not in the string.\n",
      "The string contain the word 'Python'\n"
     ]
    }
   ],
   "source": [
    "#Menbership Operator\n",
    "user_input = input(\"Enter a String: \")\n",
    "\n",
    "#Check if 'a' is in the String\n",
    "if 'a' in user_input:\n",
    "    print(\"The letter 'a' is in the string.\")\n",
    "else:\n",
    "    print(\"The letter 'a' is not in the string.\")\n",
    "    \n",
    "#Checks if the string doesn't contain the word \"Python\".\n",
    "if \"Python\" not in user_input:\n",
    "    print(\"The string doesn't contain the word 'Python'\")\n",
    "else:\n",
    "    print(\"The string contain the word 'Python'\")"
   ]
  },
  {
   "cell_type": "markdown",
   "id": "566dd5e6",
   "metadata": {},
   "source": [
    "4.\n",
    "\n",
    "Bitwise Operator Task: Given two integers, write a Python program that:\n",
    "\n",
    "    Prints the result of a & b, a | b, and a ^ b.\n",
    "    Shifts the bits of a two positions to the left (a << 2).\n",
    "    Shifts the bits of b one position to the right (b >> 1)."
   ]
  },
  {
   "cell_type": "code",
   "execution_count": 22,
   "id": "b6c76398",
   "metadata": {},
   "outputs": [
    {
     "name": "stdout",
     "output_type": "stream",
     "text": [
      "Enter first integer (a): 5\n",
      "Enter second integer (b): 3\n",
      "a & b = 1\n",
      "a | b = 7\n",
      "a ^ b = 6\n",
      "a << 2 = 20\n",
      "b >> 1 = 1\n"
     ]
    }
   ],
   "source": [
    "# Bitwise Operator Task\n",
    "a = int(input(\"Enter first integer (a): \"))\n",
    "b = int(input(\"Enter second integer (b): \"))\n",
    "\n",
    "print(\"a & b =\", a & b)\n",
    "print(\"a | b =\", a | b)\n",
    "print(\"a ^ b =\", a ^ b)\n",
    "print(\"a << 2 =\", a << 2)\n",
    "print(\"b >> 1 =\", b >> 1)"
   ]
  }
 ],
 "metadata": {
  "kernelspec": {
   "display_name": "Python 3 (ipykernel)",
   "language": "python",
   "name": "python3"
  },
  "language_info": {
   "codemirror_mode": {
    "name": "ipython",
    "version": 3
   },
   "file_extension": ".py",
   "mimetype": "text/x-python",
   "name": "python",
   "nbconvert_exporter": "python",
   "pygments_lexer": "ipython3",
   "version": "3.11.5"
  }
 },
 "nbformat": 4,
 "nbformat_minor": 5
}
