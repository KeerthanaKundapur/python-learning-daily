{
 "cells": [
  {
   "cell_type": "markdown",
   "id": "bcdd60c4",
   "metadata": {},
   "source": [
    "# While Loops in Python"
   ]
  },
  {
   "cell_type": "markdown",
   "id": "82d72d44",
   "metadata": {},
   "source": [
    "1. The Basic Structure of a while Loop"
   ]
  },
  {
   "cell_type": "markdown",
   "id": "0b81b32d",
   "metadata": {},
   "source": [
    "    Syntax:\n",
    "    while condition:\n",
    "        #Code to execute as long as condition is True"
   ]
  },
  {
   "cell_type": "code",
   "execution_count": 1,
   "id": "028f588f",
   "metadata": {},
   "outputs": [
    {
     "name": "stdout",
     "output_type": "stream",
     "text": [
      "1\n",
      "2\n",
      "3\n",
      "4\n",
      "5\n"
     ]
    }
   ],
   "source": [
    "#Let’s print numbers from 1 to 5 using a while loop.\n",
    "i = 1\n",
    "while i <= 5:\n",
    "    print(i)\n",
    "    i += 1 #Incrementing i by 1 after each iteration"
   ]
  },
  {
   "cell_type": "markdown",
   "id": "4b169c0d",
   "metadata": {},
   "source": [
    "2. Common Example: Counting Sheep"
   ]
  },
  {
   "cell_type": "code",
   "execution_count": 2,
   "id": "ffea3e50",
   "metadata": {},
   "outputs": [
    {
     "name": "stdout",
     "output_type": "stream",
     "text": [
      "Sheep 1\n",
      "Sheep 2\n",
      "Sheep 3\n",
      "Sheep 4\n",
      "Sheep 5\n",
      "Sheep 6\n",
      "Sheep 7\n",
      "Sheep 8\n",
      "Sheep 9\n",
      "Sheep 10\n"
     ]
    }
   ],
   "source": [
    "#example: Imagine you're counting sheep to fall asleep.\n",
    "sheep_count = 1\n",
    "while sheep_count <= 10:\n",
    "    print(f\"Sheep {sheep_count}\")\n",
    "    sheep_count = sheep_count + 1"
   ]
  },
  {
   "cell_type": "markdown",
   "id": "462c4277",
   "metadata": {},
   "source": [
    "3. Avoiding Infinite Loops"
   ]
  },
  {
   "cell_type": "markdown",
   "id": "953e0c62",
   "metadata": {},
   "source": [
    "\n",
    "    i = 1\n",
    "    while i <= 5:\n",
    "        print(i)\n",
    "\n",
    "#Forgot to update i, so the condition remains True\n",
    "#Don't Run above code"
   ]
  },
  {
   "cell_type": "markdown",
   "id": "5fbfaae9",
   "metadata": {},
   "source": [
    "4. Using break to Exit a while Loop"
   ]
  },
  {
   "cell_type": "code",
   "execution_count": 4,
   "id": "cff9cd6b",
   "metadata": {},
   "outputs": [
    {
     "name": "stdout",
     "output_type": "stream",
     "text": [
      "Sheep 1\n",
      "Sheep 2\n",
      "Sheep 3\n",
      "Sheep 4\n",
      "Sheep 5\n",
      "That's enough counting!\n"
     ]
    }
   ],
   "source": [
    "#Let’s stop counting sheep after 5 sheep, even though the condition allows counting up to 10:\n",
    "sheep_count = 1\n",
    "while sheep_count <= 10:\n",
    "    print(f\"Sheep {sheep_count}\")\n",
    "    if sheep_count == 5:\n",
    "        print(\"That's enough counting!\")\n",
    "        break\n",
    "    sheep_count = sheep_count + 1"
   ]
  },
  {
   "cell_type": "markdown",
   "id": "59d5ad78",
   "metadata": {},
   "source": [
    "5. Using continue to Skip an Iteration"
   ]
  },
  {
   "cell_type": "code",
   "execution_count": 5,
   "id": "d9f2d022",
   "metadata": {},
   "outputs": [
    {
     "name": "stdout",
     "output_type": "stream",
     "text": [
      "Sheep 1\n",
      "Sheep 2\n",
      "Sheep 3\n",
      "Sheep 5\n"
     ]
    }
   ],
   "source": [
    "#Let’s say you want to skip counting sheep that are number 4:\n",
    "sheep_count = 1\n",
    "while sheep_count <= 5:\n",
    "    if sheep_count == 4:\n",
    "        sheep_count += 1\n",
    "        continue\n",
    "    print(f\"Sheep {sheep_count}\")\n",
    "    sheep_count += 1"
   ]
  },
  {
   "cell_type": "markdown",
   "id": "132d269e",
   "metadata": {},
   "source": [
    "6. Using while Loops for User Input"
   ]
  },
  {
   "cell_type": "code",
   "execution_count": 6,
   "id": "f7c69d63",
   "metadata": {},
   "outputs": [
    {
     "name": "stdout",
     "output_type": "stream",
     "text": [
      "Enter your PIN: 1256\n",
      "Incorrect PIN. Try again.\n",
      "Enter your PIN: 2345\n",
      "Incorrect PIN. Try again.\n",
      "Enter your PIN: 1234\n",
      "PIN accepted. You can proceed.\n"
     ]
    }
   ],
   "source": [
    "#Let’s ask the user for a PIN until they enter the correct one:\n",
    "pin = \"\"\n",
    "correct_pin = \"1234\"\n",
    "while pin != correct_pin:\n",
    "    pin = input(\"Enter your PIN: \")\n",
    "    if pin != correct_pin:\n",
    "        print(\"Incorrect PIN. Try again.\")\n",
    "print(\"PIN accepted. You can proceed.\")"
   ]
  },
  {
   "cell_type": "markdown",
   "id": "05dc5f02",
   "metadata": {},
   "source": [
    "7. Real-life Example: KSRTC Bus Seats Availability"
   ]
  },
  {
   "cell_type": "code",
   "execution_count": 1,
   "id": "79af0b62",
   "metadata": {},
   "outputs": [
    {
     "name": "stdout",
     "output_type": "stream",
     "text": [
      "5 seats available.\n",
      "Do you want to book a seat? (yes/no): yes\n",
      "Seat booked!\n",
      "4 seats available.\n",
      "Do you want to book a seat? (yes/no): yes\n",
      "Seat booked!\n",
      "3 seats available.\n",
      "Do you want to book a seat? (yes/no): yes\n",
      "Seat booked!\n",
      "2 seats available.\n",
      "Do you want to book a seat? (yes/no): yes\n",
      "Seat booked!\n",
      "1 seats available.\n",
      "Do you want to book a seat? (yes/no): yes\n",
      "Seat booked!\n",
      "All seats are booked!\n"
     ]
    }
   ],
   "source": [
    "#Let’s say you want to simulate a KSRTC bus seat booking system. The bus has 5 available seats. Each time a seat is booked, the available seats decrease.\n",
    "available_seats = 5\n",
    "\n",
    "while available_seats > 0:\n",
    "    print(f\"{available_seats} seats available.\")\n",
    "    booking = input(\"Do you want to book a seat? (yes/no): \").lower()\n",
    "    \n",
    "    if booking == \"yes\":\n",
    "        available_seats -= 1\n",
    "        print(\"Seat booked!\")\n",
    "    else:\n",
    "        print(\"No booking made.\")\n",
    "\n",
    "print(\"All seats are booked!\")"
   ]
  },
  {
   "cell_type": "markdown",
   "id": "d1e64515",
   "metadata": {},
   "source": [
    "8. Nested while Loops"
   ]
  },
  {
   "cell_type": "code",
   "execution_count": 3,
   "id": "4c1dc571",
   "metadata": {},
   "outputs": [
    {
     "name": "stdout",
     "output_type": "stream",
     "text": [
      "Snacks available: 3. Money: ₹10\n",
      "Do you want to buy a snack for ₹5? (yes/no): no\n",
      "No purchase made.\n",
      "Snacks available: 3. Money: ₹10\n",
      "Do you want to buy a snack for ₹5? (yes/no): yes\n",
      "Snack purchased!\n",
      "Snacks available: 2. Money: ₹5\n",
      "Do you want to buy a snack for ₹5? (yes/no): yes\n",
      "Snack purchased!\n",
      "Either snacks are sold out or you are out of money.\n"
     ]
    }
   ],
   "source": [
    "#Let’s simulate a snack machine that allows users to buy snacks as long as both the machine has snacks and the user has money:\n",
    "snacks_available = 3\n",
    "money = 10\n",
    "\n",
    "while snacks_available > 0 and money > 0:\n",
    "    print(f\"Snacks available: {snacks_available}. Money: ₹{money}\")\n",
    "    buy = input(\"Do you want to buy a snack for ₹5? (yes/no): \").lower()\n",
    "    \n",
    "    if buy == \"yes\" and money >= 5:\n",
    "        snacks_available -= 1\n",
    "        money -= 5\n",
    "        print(\"Snack purchased!\")\n",
    "    else:\n",
    "        print(\"No purchase made.\")\n",
    "        \n",
    "print(\"Either snacks are sold out or you are out of money.\")"
   ]
  },
  {
   "cell_type": "markdown",
   "id": "bf3caada",
   "metadata": {},
   "source": [
    "Assignment:"
   ]
  },
  {
   "cell_type": "markdown",
   "id": "b5671857",
   "metadata": {},
   "source": [
    "    1.Basic Counting with while Loop:\n",
    "\n",
    "    Write a program that counts from 1 to 10 using a while loop."
   ]
  },
  {
   "cell_type": "code",
   "execution_count": 1,
   "id": "42e21094",
   "metadata": {},
   "outputs": [
    {
     "name": "stdout",
     "output_type": "stream",
     "text": [
      "Count 1\n",
      "Count 2\n",
      "Count 3\n",
      "Count 4\n",
      "Count 5\n",
      "Count 6\n",
      "Count 7\n",
      "Count 8\n",
      "Count 9\n",
      "Count 10\n"
     ]
    }
   ],
   "source": [
    "i = 1\n",
    "while i <= 10:\n",
    "    print(\"Count\",i)\n",
    "    i = i + 1"
   ]
  },
  {
   "cell_type": "markdown",
   "id": "78b10f1f",
   "metadata": {},
   "source": [
    "2.Odd Numbers Printer:\n",
    "\n",
    "    Create a program that prints all odd numbers between 1 and 20 using a while loop."
   ]
  },
  {
   "cell_type": "code",
   "execution_count": 1,
   "id": "57c15f68",
   "metadata": {},
   "outputs": [
    {
     "name": "stdout",
     "output_type": "stream",
     "text": [
      "1\n",
      "3\n",
      "5\n",
      "7\n",
      "9\n",
      "11\n",
      "13\n",
      "15\n",
      "17\n",
      "19\n"
     ]
    }
   ],
   "source": [
    "i = 1\n",
    "while i <= 20:\n",
    "    if i%2 != 0:  #Check if i is odd\n",
    "        print(i)\n",
    "    i += 1   #Increment i in every loop iteration"
   ]
  },
  {
   "cell_type": "markdown",
   "id": "f0b0543f",
   "metadata": {},
   "source": [
    "3. Ticket Booking Simulation:\n",
    "Write a program that simulates a bus ticket booking system. The bus has 8 seats. Each time a seat is booked, the available seats decrease. When there are no seats left, the loop stops and displays a message saying \"All seats are booked.\""
   ]
  },
  {
   "cell_type": "code",
   "execution_count": 2,
   "id": "4fd32a7b",
   "metadata": {},
   "outputs": [
    {
     "name": "stdout",
     "output_type": "stream",
     "text": [
      "8 seats available.\n",
      "Do you want to book a seat? (yes/no): yes\n",
      "Seat booked!\n",
      "7 seats available.\n",
      "Do you want to book a seat? (yes/no): yes\n",
      "Seat booked!\n",
      "6 seats available.\n",
      "Do you want to book a seat? (yes/no): yes\n",
      "Seat booked!\n",
      "5 seats available.\n",
      "Do you want to book a seat? (yes/no): yes\n",
      "Seat booked!\n",
      "4 seats available.\n",
      "Do you want to book a seat? (yes/no): yes\n",
      "Seat booked!\n",
      "3 seats available.\n",
      "Do you want to book a seat? (yes/no): yes\n",
      "Seat booked!\n",
      "2 seats available.\n",
      "Do you want to book a seat? (yes/no): yes\n",
      "Seat booked!\n",
      "1 seats available.\n",
      "Do you want to book a seat? (yes/no): yes\n",
      "Seat booked!\n",
      "All seats are booked!\n"
     ]
    }
   ],
   "source": [
    "available_seats = 8\n",
    "\n",
    "while available_seats > 0:\n",
    "    print(f\"{available_seats} seats available.\")\n",
    "    booking = input(\"Do you want to book a seat? (yes/no): \").lower()\n",
    "    \n",
    "    if booking == \"yes\":\n",
    "        available_seats -= 1\n",
    "        print(\"Seat booked!\")\n",
    "    else:\n",
    "        print(\"No booking made.\")\n",
    "\n",
    "print(\"All seats are booked!\")"
   ]
  },
  {
   "cell_type": "markdown",
   "id": "e9304d01",
   "metadata": {},
   "source": [
    "4.Countdown Timer:\n",
    "    Write a program that counts down from 10 to 1 using a while loop and prints \"Happy New Year!\" after the countdown is over. "
   ]
  },
  {
   "cell_type": "code",
   "execution_count": 3,
   "id": "2da81d8e",
   "metadata": {},
   "outputs": [
    {
     "name": "stdout",
     "output_type": "stream",
     "text": [
      "10\n",
      "9\n",
      "8\n",
      "7\n",
      "6\n",
      "5\n",
      "4\n",
      "3\n",
      "2\n",
      "1\n",
      "Happy New Year!\n"
     ]
    }
   ],
   "source": [
    "i = 10\n",
    "\n",
    "while i >= 1:\n",
    "    print(i)\n",
    "    i = i - 1\n",
    "\n",
    "print(\"Happy New Year!\")"
   ]
  },
  {
   "cell_type": "code",
   "execution_count": null,
   "id": "d38b2ccc",
   "metadata": {},
   "outputs": [],
   "source": []
  }
 ],
 "metadata": {
  "kernelspec": {
   "display_name": "Python 3 (ipykernel)",
   "language": "python",
   "name": "python3"
  },
  "language_info": {
   "codemirror_mode": {
    "name": "ipython",
    "version": 3
   },
   "file_extension": ".py",
   "mimetype": "text/x-python",
   "name": "python",
   "nbconvert_exporter": "python",
   "pygments_lexer": "ipython3",
   "version": "3.11.5"
  }
 },
 "nbformat": 4,
 "nbformat_minor": 5
}
