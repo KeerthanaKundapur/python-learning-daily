{
 "cells": [
  {
   "cell_type": "markdown",
   "id": "8ca2b4a4",
   "metadata": {},
   "source": [
    "# Lists in Python"
   ]
  },
  {
   "cell_type": "markdown",
   "id": "6deca4f6",
   "metadata": {},
   "source": [
    "Syntax:\n",
    "my_list = [element1,element2,element3,...]"
   ]
  },
  {
   "cell_type": "code",
   "execution_count": 12,
   "id": "6f5cfd91",
   "metadata": {},
   "outputs": [
    {
     "name": "stdout",
     "output_type": "stream",
     "text": [
      "['apple', 'banana', 'cherry']\n",
      "[1, 2, 3, 4, 5]\n",
      "['apple', 3, True]\n"
     ]
    }
   ],
   "source": [
    "fruits = [\"apple\",\"banana\",\"cherry\"]\n",
    "numbers = [1,2,3,4,5]\n",
    "mixed = [\"apple\",3,True]\n",
    "\n",
    "print(fruits)\n",
    "print(numbers)\n",
    "print(mixed)"
   ]
  },
  {
   "cell_type": "markdown",
   "id": "bfb81a1b",
   "metadata": {},
   "source": [
    "Accessing List Elements\n",
    "\n",
    "Syntax: list_name[index]"
   ]
  },
  {
   "cell_type": "code",
   "execution_count": 13,
   "id": "257c92de",
   "metadata": {},
   "outputs": [
    {
     "name": "stdout",
     "output_type": "stream",
     "text": [
      "apple\n",
      "cherry\n"
     ]
    }
   ],
   "source": [
    "fruits = [\"apple\",\"banana\",\"cherry\"]\n",
    "\n",
    "print(fruits[0]) #Output: apple\n",
    "print(fruits[2]) #Output: cherry"
   ]
  },
  {
   "cell_type": "code",
   "execution_count": 14,
   "id": "b44b33a6",
   "metadata": {},
   "outputs": [
    {
     "name": "stdout",
     "output_type": "stream",
     "text": [
      "cherry\n",
      "banana\n"
     ]
    }
   ],
   "source": [
    "print(fruits[-1]) #Output: cherry\n",
    "print(fruits[-2]) #Output: banana"
   ]
  },
  {
   "cell_type": "markdown",
   "id": "d62b17b4",
   "metadata": {},
   "source": [
    "Modifying Lists"
   ]
  },
  {
   "cell_type": "code",
   "execution_count": 15,
   "id": "48c0e28c",
   "metadata": {},
   "outputs": [
    {
     "name": "stdout",
     "output_type": "stream",
     "text": [
      "['apple', 'orange', 'cherry']\n"
     ]
    }
   ],
   "source": [
    "#Changing a specific element:\n",
    "fruits[1] = \"orange\"\n",
    "print(fruits) "
   ]
  },
  {
   "cell_type": "code",
   "execution_count": 16,
   "id": "66ed0a46",
   "metadata": {},
   "outputs": [
    {
     "name": "stdout",
     "output_type": "stream",
     "text": [
      "['apple', 'orange', 'cherry', 'grape']\n"
     ]
    }
   ],
   "source": [
    "#Adding elements:\n",
    "fruits.append(\"grape\")\n",
    "print(fruits)"
   ]
  },
  {
   "cell_type": "code",
   "execution_count": 17,
   "id": "09534e65",
   "metadata": {},
   "outputs": [
    {
     "name": "stdout",
     "output_type": "stream",
     "text": [
      "['apple', 'kiwi', 'orange', 'cherry', 'grape']\n"
     ]
    }
   ],
   "source": [
    "#insert()\n",
    "fruits.insert(1,'kiwi')\n",
    "print(fruits)"
   ]
  },
  {
   "cell_type": "code",
   "execution_count": 18,
   "id": "d2f8e6f7",
   "metadata": {},
   "outputs": [
    {
     "name": "stdout",
     "output_type": "stream",
     "text": [
      "['apple', 'kiwi', 'cherry', 'grape']\n"
     ]
    }
   ],
   "source": [
    "#Removing elements:\n",
    "fruits.remove(\"orange\")\n",
    "print(fruits)"
   ]
  },
  {
   "cell_type": "code",
   "execution_count": 19,
   "id": "7eac16da",
   "metadata": {},
   "outputs": [
    {
     "name": "stdout",
     "output_type": "stream",
     "text": [
      "['apple', 'kiwi', 'cherry']\n"
     ]
    }
   ],
   "source": [
    "#pop()\n",
    "fruits.pop()\n",
    "print(fruits)"
   ]
  },
  {
   "cell_type": "code",
   "execution_count": 20,
   "id": "4c0900c9",
   "metadata": {},
   "outputs": [
    {
     "name": "stdout",
     "output_type": "stream",
     "text": [
      "['kiwi', 'cherry']\n"
     ]
    }
   ],
   "source": [
    "#pop()\n",
    "fruits.pop(0)\n",
    "print(fruits)"
   ]
  },
  {
   "cell_type": "code",
   "execution_count": 21,
   "id": "a74ff87e",
   "metadata": {},
   "outputs": [
    {
     "name": "stdout",
     "output_type": "stream",
     "text": [
      "[]\n"
     ]
    }
   ],
   "source": [
    "#clear()\n",
    "fruits.clear()\n",
    "print(fruits)"
   ]
  },
  {
   "cell_type": "markdown",
   "id": "7eb5edb3",
   "metadata": {},
   "source": [
    "#Slicing Lists\n",
    "\n",
    "list_name[start:stop:step]"
   ]
  },
  {
   "cell_type": "code",
   "execution_count": 22,
   "id": "501ec291",
   "metadata": {},
   "outputs": [
    {
     "name": "stdout",
     "output_type": "stream",
     "text": [
      "[1, 2, 3]\n",
      "[0, 1, 2, 3]\n",
      "[2, 3, 4, 5, 6]\n",
      "[0, 2, 4, 6]\n"
     ]
    }
   ],
   "source": [
    "numbers = [0,1,2,3,4,5,6]\n",
    "print(numbers[1:4]) \n",
    "print(numbers[:4])  \n",
    "print(numbers[2:]) \n",
    "print(numbers[::2])"
   ]
  },
  {
   "cell_type": "markdown",
   "id": "dd845e40",
   "metadata": {},
   "source": [
    "List Functions and Methods"
   ]
  },
  {
   "cell_type": "markdown",
   "id": "7cad36b6",
   "metadata": {},
   "source": [
    "len(list)"
   ]
  },
  {
   "cell_type": "code",
   "execution_count": 33,
   "id": "70b23b0e",
   "metadata": {},
   "outputs": [
    {
     "name": "stdout",
     "output_type": "stream",
     "text": [
      "3\n"
     ]
    }
   ],
   "source": [
    "fruits=['orange','mango','grapes']\n",
    "print(len(fruits))"
   ]
  },
  {
   "cell_type": "code",
   "execution_count": 34,
   "id": "61df3c81",
   "metadata": {},
   "outputs": [
    {
     "name": "stdout",
     "output_type": "stream",
     "text": [
      "[1, 1, 1, 2, 3]\n",
      "[1, 2, 3, 1, 1]\n"
     ]
    }
   ],
   "source": [
    "#sorted(list)\n",
    "number = [5,2,9,1]\n",
    "print(sorted(numbers))\n",
    "print(numbers)"
   ]
  },
  {
   "cell_type": "code",
   "execution_count": 35,
   "id": "fda2cc40",
   "metadata": {},
   "outputs": [
    {
     "name": "stdout",
     "output_type": "stream",
     "text": [
      "10\n"
     ]
    }
   ],
   "source": [
    "#sum(list)\n",
    "numbers = [1,2,3,4]\n",
    "print(sum(numbers))"
   ]
  },
  {
   "cell_type": "code",
   "execution_count": 36,
   "id": "12a82414",
   "metadata": {},
   "outputs": [
    {
     "name": "stdout",
     "output_type": "stream",
     "text": [
      "0\n"
     ]
    }
   ],
   "source": [
    "#Common methods\n",
    "#index(element):\n",
    "print(fruits.index(\"orange\"))"
   ]
  },
  {
   "cell_type": "code",
   "execution_count": 37,
   "id": "478e0aa7",
   "metadata": {},
   "outputs": [
    {
     "name": "stdout",
     "output_type": "stream",
     "text": [
      "3\n"
     ]
    }
   ],
   "source": [
    "#count(element):\n",
    "numbers = [1,2,3,1,1]\n",
    "print(numbers.count(1))"
   ]
  },
  {
   "cell_type": "code",
   "execution_count": 39,
   "id": "2cb4c21f",
   "metadata": {},
   "outputs": [
    {
     "name": "stdout",
     "output_type": "stream",
     "text": [
      "['orange', 'mango', 'grapes']\n"
     ]
    }
   ],
   "source": [
    "#reverse():\n",
    "fruits.reverse()\n",
    "print(fruits)"
   ]
  },
  {
   "cell_type": "code",
   "execution_count": 40,
   "id": "1db02696",
   "metadata": {},
   "outputs": [
    {
     "name": "stdout",
     "output_type": "stream",
     "text": [
      "[1, 2, 5, 9]\n"
     ]
    }
   ],
   "source": [
    "#sort()\n",
    "numbers = [5,2,9,1]\n",
    "numbers.sort()\n",
    "print(numbers)"
   ]
  },
  {
   "cell_type": "code",
   "execution_count": 42,
   "id": "41782412",
   "metadata": {},
   "outputs": [
    {
     "name": "stdout",
     "output_type": "stream",
     "text": [
      "[1, 2, 3]\n",
      "5\n"
     ]
    }
   ],
   "source": [
    "# Nested Lists\n",
    "matrix = [\n",
    "    [1,2,3],\n",
    "    [4,5,6],\n",
    "    [7,8,9]\n",
    "]\n",
    "\n",
    "#Accessing elements in a nested list\n",
    "print(matrix[0])\n",
    "print(matrix[1][1])"
   ]
  },
  {
   "cell_type": "markdown",
   "id": "da35dde9",
   "metadata": {},
   "source": [
    "Assignments"
   ]
  },
  {
   "cell_type": "markdown",
   "id": "13c900f2",
   "metadata": {},
   "source": [
    "1. List Manipulation Exercise:\n",
    "\n",
    "    Create a list of 5 items (strings or numbers).\n",
    "    Add a new item to the end of the list and another at the second position.\n",
    "    Remove the third item from the list.\n",
    "    Print the list after each operation.\n",
    "\n"
   ]
  },
  {
   "cell_type": "code",
   "execution_count": 49,
   "id": "02fb7e20",
   "metadata": {},
   "outputs": [
    {
     "name": "stdout",
     "output_type": "stream",
     "text": [
      "Initial list: [10, 20, 30, 40, 50]\n",
      "After adding item to the end: [10, 20, 30, 40, 50, 60]\n",
      "After inserting item at second position: [10, 15, 20, 30, 40, 50, 60]\n",
      "After removing the third item: [10, 15, 30, 40, 50, 60]\n"
     ]
    }
   ],
   "source": [
    "# Step 1: Create a list of 5 items\n",
    "my_list = [10, 20, 30, 40, 50]\n",
    "print(\"Initial list:\", my_list)\n",
    "\n",
    "# Step 2: Add a new item to the end of the list\n",
    "my_list.append(60)\n",
    "print(\"After adding item to the end:\", my_list)\n",
    "\n",
    "# Step 3: Add a new item at the second position (index 1)\n",
    "my_list.insert(1, 15)\n",
    "print(\"After inserting item at second position:\", my_list)\n",
    "\n",
    "# Step 4: Remove the third item (index 2)\n",
    "my_list.pop(2)\n",
    "print(\"After removing the third item:\", my_list)\n"
   ]
  },
  {
   "cell_type": "markdown",
   "id": "487f4dcf",
   "metadata": {},
   "source": [
    "2. Reverse and Sort a List: Create a list of numbers and:\n",
    "\n",
    "    Sort it in descending order.\n",
    "    \n",
    "    Reverse the sorted list and print it.\n",
    "\n"
   ]
  },
  {
   "cell_type": "code",
   "execution_count": 50,
   "id": "bf68c5aa",
   "metadata": {},
   "outputs": [
    {
     "name": "stdout",
     "output_type": "stream",
     "text": [
      "Original list: [25, 10, 45, 5, 30]\n",
      "Sorted in descending order: [45, 30, 25, 10, 5]\n",
      "Reversed list after sorting: [5, 10, 25, 30, 45]\n"
     ]
    }
   ],
   "source": [
    "# Step 1: Create a list of numbers\n",
    "numbers = [25, 10, 45, 5, 30]\n",
    "print(\"Original list:\", numbers)\n",
    "\n",
    "# Step 2: Sort the list in descending order\n",
    "numbers.sort(reverse=True)\n",
    "print(\"Sorted in descending order:\", numbers)\n",
    "\n",
    "# Step 3: Reverse the sorted list\n",
    "numbers.reverse()\n",
    "print(\"Reversed list after sorting:\", numbers)\n"
   ]
  }
 ],
 "metadata": {
  "kernelspec": {
   "display_name": "Python 3 (ipykernel)",
   "language": "python",
   "name": "python3"
  },
  "language_info": {
   "codemirror_mode": {
    "name": "ipython",
    "version": 3
   },
   "file_extension": ".py",
   "mimetype": "text/x-python",
   "name": "python",
   "nbconvert_exporter": "python",
   "pygments_lexer": "ipython3",
   "version": "3.11.5"
  }
 },
 "nbformat": 4,
 "nbformat_minor": 5
}
