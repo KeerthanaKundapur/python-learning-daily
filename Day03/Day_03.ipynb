{
 "cells": [
  {
   "cell_type": "markdown",
   "id": "050ce8a0",
   "metadata": {},
   "source": [
    "# Input/Output, String Manipulation and Comments"
   ]
  },
  {
   "cell_type": "markdown",
   "id": "02388b36",
   "metadata": {},
   "source": [
    "Input and Output in Python"
   ]
  },
  {
   "cell_type": "markdown",
   "id": "a14b1a6d",
   "metadata": {},
   "source": [
    "Input fron users:"
   ]
  },
  {
   "cell_type": "code",
   "execution_count": 2,
   "id": "01f2eeed",
   "metadata": {},
   "outputs": [
    {
     "name": "stdout",
     "output_type": "stream",
     "text": [
      "Enter your name: Keerthi\n",
      "Enter your age: 25\n"
     ]
    }
   ],
   "source": [
    "name = input(\"Enter your name: \")\n",
    "age = int(input(\"Enter your age: \")) #Convert input into integer"
   ]
  },
  {
   "cell_type": "markdown",
   "id": "1270f6be",
   "metadata": {},
   "source": [
    "Output to the console:"
   ]
  },
  {
   "cell_type": "code",
   "execution_count": 7,
   "id": "36ee9933",
   "metadata": {},
   "outputs": [
    {
     "name": "stdout",
     "output_type": "stream",
     "text": [
      "Hello,Keerthi! You are 25 year old.\n"
     ]
    }
   ],
   "source": [
    "print(\"Hello,\"+ name +\"! You are \"+str(age)+\" year old.\")"
   ]
  },
  {
   "cell_type": "markdown",
   "id": "93bbdb28",
   "metadata": {},
   "source": [
    "f-strings"
   ]
  },
  {
   "cell_type": "code",
   "execution_count": 8,
   "id": "845dd1a6",
   "metadata": {},
   "outputs": [
    {
     "name": "stdout",
     "output_type": "stream",
     "text": [
      "Hello,Keerthi! You are 25 year old.\n"
     ]
    }
   ],
   "source": [
    "print(f\"Hello,{name}! You are {age} year old.\")"
   ]
  },
  {
   "cell_type": "markdown",
   "id": "02138e06",
   "metadata": {},
   "source": [
    "String manipulation"
   ]
  },
  {
   "cell_type": "markdown",
   "id": "4bd100cd",
   "metadata": {},
   "source": [
    "Concatenation"
   ]
  },
  {
   "cell_type": "code",
   "execution_count": 9,
   "id": "bb4cd2b8",
   "metadata": {},
   "outputs": [
    {
     "name": "stdout",
     "output_type": "stream",
     "text": [
      "John Doe\n"
     ]
    }
   ],
   "source": [
    "first_name = \"John\"\n",
    "last_name = \"Doe\"\n",
    "full_name = first_name +\" \"+ last_name\n",
    "print(full_name)"
   ]
  },
  {
   "cell_type": "markdown",
   "id": "774ef3e8",
   "metadata": {},
   "source": [
    "Repetation"
   ]
  },
  {
   "cell_type": "code",
   "execution_count": 12,
   "id": "1e0b9f46",
   "metadata": {},
   "outputs": [
    {
     "name": "stdout",
     "output_type": "stream",
     "text": [
      "Hello! Hello! Hello! \n"
     ]
    }
   ],
   "source": [
    "greeting = \"Hello! \"*3\n",
    "print(greeting)"
   ]
  },
  {
   "cell_type": "markdown",
   "id": "95c616a0",
   "metadata": {},
   "source": [
    "String Methods"
   ]
  },
  {
   "cell_type": "markdown",
   "id": "a109a92d",
   "metadata": {},
   "source": [
    "[upper(),lower(),strip(),replace(old,new)]"
   ]
  },
  {
   "cell_type": "code",
   "execution_count": 13,
   "id": "d87510f2",
   "metadata": {},
   "outputs": [
    {
     "name": "stdout",
     "output_type": "stream",
     "text": [
      "hello,wolrd!\n"
     ]
    }
   ],
   "source": [
    "message = \"Hello,Wolrd!\"\n",
    "print(message.lower())"
   ]
  },
  {
   "cell_type": "code",
   "execution_count": 14,
   "id": "2a515d26",
   "metadata": {},
   "outputs": [
    {
     "name": "stdout",
     "output_type": "stream",
     "text": [
      "HELLO,WORLD\n"
     ]
    }
   ],
   "source": [
    "message = \"Hello,World\"\n",
    "print(message.upper())"
   ]
  },
  {
   "cell_type": "code",
   "execution_count": 15,
   "id": "ac4b6985",
   "metadata": {},
   "outputs": [
    {
     "name": "stdout",
     "output_type": "stream",
     "text": [
      "Hello,World\n"
     ]
    }
   ],
   "source": [
    "message = \"   Hello,World\"\n",
    "print(message.strip())"
   ]
  },
  {
   "cell_type": "code",
   "execution_count": 18,
   "id": "1c6dcfd9",
   "metadata": {},
   "outputs": [
    {
     "name": "stdout",
     "output_type": "stream",
     "text": [
      "   Hello,Python!\n"
     ]
    }
   ],
   "source": [
    "print(message.replace(\"World\",\"Python!\"))"
   ]
  },
  {
   "cell_type": "markdown",
   "id": "4e3e1a2f",
   "metadata": {},
   "source": [
    "Accesssing string character"
   ]
  },
  {
   "cell_type": "code",
   "execution_count": 19,
   "id": "90744b11",
   "metadata": {},
   "outputs": [
    {
     "name": "stdout",
     "output_type": "stream",
     "text": [
      "P\n",
      "t\n"
     ]
    }
   ],
   "source": [
    "text = \"Python\"\n",
    "print(text[0])\n",
    "print(text[2])"
   ]
  },
  {
   "cell_type": "code",
   "execution_count": 20,
   "id": "90c3fb2a",
   "metadata": {},
   "outputs": [
    {
     "name": "stdout",
     "output_type": "stream",
     "text": [
      "n\n",
      "h\n"
     ]
    }
   ],
   "source": [
    "print(text[-1])\n",
    "print(text[-3])"
   ]
  },
  {
   "cell_type": "markdown",
   "id": "292143f9",
   "metadata": {},
   "source": [
    "Slicing Strings"
   ]
  },
  {
   "cell_type": "code",
   "execution_count": 21,
   "id": "4a7ce6f1",
   "metadata": {},
   "outputs": [
    {
     "name": "stdout",
     "output_type": "stream",
     "text": [
      "Python\n",
      "Python\n",
      "Programing\n"
     ]
    }
   ],
   "source": [
    "text = \"Python Programing\"\n",
    "print(text[0:6])\n",
    "print(text[:6])\n",
    "print(text[7:])"
   ]
  },
  {
   "cell_type": "markdown",
   "id": "933ece06",
   "metadata": {},
   "source": [
    "Comments in Python"
   ]
  },
  {
   "cell_type": "code",
   "execution_count": 23,
   "id": "805e961d",
   "metadata": {},
   "outputs": [
    {
     "name": "stdout",
     "output_type": "stream",
     "text": [
      "Hello,World!\n"
     ]
    }
   ],
   "source": [
    "#This is single line comment\n",
    "print(\"Hello,World!\")"
   ]
  },
  {
   "cell_type": "code",
   "execution_count": 24,
   "id": "f96e96e4",
   "metadata": {},
   "outputs": [
    {
     "name": "stdout",
     "output_type": "stream",
     "text": [
      "Hello,World!\n"
     ]
    }
   ],
   "source": [
    "\"\"\"\n",
    "This is Multi-line comment\n",
    "It can span multiple lines\n",
    "\"\"\"\n",
    "print(\"Hello,World!\")"
   ]
  },
  {
   "cell_type": "markdown",
   "id": "7be16e1a",
   "metadata": {},
   "source": [
    "Escape Sequence"
   ]
  },
  {
   "cell_type": "code",
   "execution_count": 25,
   "id": "1b9e3cf4",
   "metadata": {},
   "outputs": [
    {
     "name": "stdout",
     "output_type": "stream",
     "text": [
      "Hello\n",
      "World!\n",
      "Hello\tWorld!\n"
     ]
    }
   ],
   "source": [
    "print(\"Hello\\nWorld!\")\n",
    "print(\"Hello\\tWorld!\")"
   ]
  },
  {
   "cell_type": "markdown",
   "id": "976833b9",
   "metadata": {},
   "source": [
    "Assignment"
   ]
  },
  {
   "cell_type": "markdown",
   "id": "7f6009e2",
   "metadata": {},
   "source": [
    "1.Simple Greeting Program: Write a Python program that asks the user for their name and age, then prints a personalized greeting message. Use both the + operator and f-strings for output.\n",
    "\n",
    "Example:\n",
    "\n",
    "Enter your name: Alice\n",
    "\n",
    "Enter your age: 25\n",
    "\n",
    "Output: Hello, Alice! You are 25 years old."
   ]
  },
  {
   "cell_type": "code",
   "execution_count": 32,
   "id": "7de3a84d",
   "metadata": {},
   "outputs": [
    {
     "name": "stdout",
     "output_type": "stream",
     "text": [
      "Enter youe name: Alice\n",
      "Enter your age: 25\n",
      "Hello,Alice! You are 25 years old.\n",
      "Hello,Alice! You are 25 years old.\n"
     ]
    }
   ],
   "source": [
    "name = input(\"Enter youe name: \")\n",
    "age = int(input(\"Enter your age: \"))\n",
    "\n",
    "print(f\"Hello,{name}! You are {age} years old.\")\n",
    "print(\"Hello,\"+name+ \"! You are \" + str(age)+ \" years old.\")"
   ]
  },
  {
   "cell_type": "markdown",
   "id": "ffd0c51e",
   "metadata": {},
   "source": [
    "2.String Manipulation Exercise: Write a Python program that:\n",
    "\n",
    "    Takes a sentence as input from the user.\n",
    "    Prints the sentence in all uppercase and lowercase.\n",
    "    Replaces all spaces with underscores.\n",
    "    Removes leading and trailing whitespace.\n",
    "\n",
    "Example:\n",
    "\n",
    "Input: \"   Python is awesome!   \"\n",
    "\n",
    "Output:\n",
    "Uppercase: \"PYTHON IS AWESOME!\"\n",
    "\n",
    "Lowercase: \"python is awesome!\"\n",
    "\n",
    "Replaced: \"___Python_is_awesome!___\"\n",
    "\n",
    "Stripped: \"Python is awesome!\""
   ]
  },
  {
   "cell_type": "code",
   "execution_count": 40,
   "id": "b71de20a",
   "metadata": {},
   "outputs": [
    {
     "name": "stdout",
     "output_type": "stream",
     "text": [
      "Enter a sentence: Python is awesome!\n",
      "PYTHON IS AWESOME!\n",
      "python is awesome!\n",
      "Python_is_awesome!\n",
      "Python is awesome!\n"
     ]
    }
   ],
   "source": [
    "user_input = input(\"Enter a sentence: \")\n",
    "\n",
    "print(user_input.upper())\n",
    "print(user_input.lower())\n",
    "print(user_input.replace(\" \",\"_\"))\n",
    "print(user_input.strip())"
   ]
  },
  {
   "cell_type": "markdown",
   "id": "ec9e4dd5",
   "metadata": {},
   "source": [
    "3.Character Counter: Write a Python program that:\n",
    "\n",
    "    Asks the user for a string.\n",
    "    Prints how many characters are in the string, excluding spaces.\n",
    "\n",
    "Example:\n",
    "\n",
    "Input: \"Hello World\"\n",
    "    \n",
    "Output: \"Number of characters (excluding spaces): 10\""
   ]
  },
  {
   "cell_type": "code",
   "execution_count": 47,
   "id": "7facdd75",
   "metadata": {},
   "outputs": [
    {
     "name": "stdout",
     "output_type": "stream",
     "text": [
      "Enter a string: Hello World\n",
      "Number of characters (excluding spaces): 10\n"
     ]
    }
   ],
   "source": [
    "# Ask the user for input\n",
    "user_input = input(\"Enter a string: \")\n",
    "\n",
    "# Remove spaces from the string\n",
    "string_without_spaces = user_input.replace(\" \", \"\")\n",
    "\n",
    "# Count characters excluding spaces\n",
    "character_count = len(string_without_spaces)\n",
    "\n",
    "# Print the result\n",
    "print(\"Number of characters (excluding spaces):\", character_count)\n"
   ]
  },
  {
   "cell_type": "markdown",
   "id": "c2a28d07",
   "metadata": {},
   "source": [
    "4.Escape Sequence Practice: Write a Python program that uses escape sequences to print the following output:\n",
    "\n",
    "Example:\n",
    "\n",
    "Hello\n",
    "    World\n",
    "    \n",
    "This is a backslash: \\\n"
   ]
  },
  {
   "cell_type": "code",
   "execution_count": 55,
   "id": "9293e24c",
   "metadata": {},
   "outputs": [
    {
     "name": "stdout",
     "output_type": "stream",
     "text": [
      "Hello World\n",
      "\n",
      "This is a backslash: \\\n"
     ]
    }
   ],
   "source": [
    "# Using escape sequences to format output\n",
    "print(\"Hello World\\n\\nThis is a backslash: \\\\\") #\\n → Adds a new line.\n",
    "                     #\\\\ → Prints a single backslash, because \\ is an escape character, so we need to write it twice."
   ]
  }
 ],
 "metadata": {
  "kernelspec": {
   "display_name": "Python 3 (ipykernel)",
   "language": "python",
   "name": "python3"
  },
  "language_info": {
   "codemirror_mode": {
    "name": "ipython",
    "version": 3
   },
   "file_extension": ".py",
   "mimetype": "text/x-python",
   "name": "python",
   "nbconvert_exporter": "python",
   "pygments_lexer": "ipython3",
   "version": "3.11.5"
  }
 },
 "nbformat": 4,
 "nbformat_minor": 5
}
