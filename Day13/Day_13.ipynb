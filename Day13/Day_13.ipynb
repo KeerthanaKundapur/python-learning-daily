{
 "cells": [
  {
   "cell_type": "markdown",
   "id": "944548e7",
   "metadata": {},
   "source": [
    "# Functions - Advanced Concepts"
   ]
  },
  {
   "cell_type": "markdown",
   "id": "55141ac9",
   "metadata": {},
   "source": [
    " Keyword Arguments"
   ]
  },
  {
   "cell_type": "code",
   "execution_count": 1,
   "id": "1ac72491",
   "metadata": {},
   "outputs": [
    {
     "name": "stdout",
     "output_type": "stream",
     "text": [
      "Name: Kumar, Age: 25\n"
     ]
    }
   ],
   "source": [
    "def display_info(name,age):\n",
    "    print(f\"Name: {name}, Age: {age}\")\n",
    "    \n",
    "display_info(age=25, name=\"Kumar\")"
   ]
  },
  {
   "cell_type": "markdown",
   "id": "04cb1177",
   "metadata": {},
   "source": [
    "Variable-Length Arguments"
   ]
  },
  {
   "cell_type": "code",
   "execution_count": 2,
   "id": "5ed36218",
   "metadata": {},
   "outputs": [
    {
     "name": "stdout",
     "output_type": "stream",
     "text": [
      "10\n"
     ]
    }
   ],
   "source": [
    "#Using *args\n",
    "def total_sum(*numbers):\n",
    "    result = 0\n",
    "    for num in numbers:\n",
    "        result += num\n",
    "    return result\n",
    "\n",
    "print(total_sum(1,2,3,4))"
   ]
  },
  {
   "cell_type": "code",
   "execution_count": 4,
   "id": "28d8c247",
   "metadata": {},
   "outputs": [
    {
     "name": "stdout",
     "output_type": "stream",
     "text": [
      "name:Anand\n",
      "age:22\n",
      "course:Python\n"
     ]
    }
   ],
   "source": [
    "#Using **kwargs\n",
    "def student_info(**details):\n",
    "    for key,value in details.items():\n",
    "        print(f\"{key}:{value}\")\n",
    "        \n",
    "student_info(name=\"Anand\", age=22, course=\"Python\")"
   ]
  },
  {
   "cell_type": "markdown",
   "id": "c45ef2c8",
   "metadata": {},
   "source": [
    "Lambda Functions"
   ]
  },
  {
   "cell_type": "markdown",
   "id": "ae2306f9",
   "metadata": {},
   "source": [
    "    Syntax:\n",
    "    lambda arguments:expression  "
   ]
  },
  {
   "cell_type": "code",
   "execution_count": 5,
   "id": "4ec9ca34",
   "metadata": {},
   "outputs": [
    {
     "name": "stdout",
     "output_type": "stream",
     "text": [
      "10\n"
     ]
    }
   ],
   "source": [
    "#Lambda function to double a number\n",
    "double = lambda x:x * 2\n",
    "print(double(5))"
   ]
  },
  {
   "cell_type": "markdown",
   "id": "850af1a9",
   "metadata": {},
   "source": [
    "Recursion"
   ]
  },
  {
   "cell_type": "code",
   "execution_count": 6,
   "id": "924270e3",
   "metadata": {},
   "outputs": [
    {
     "name": "stdout",
     "output_type": "stream",
     "text": [
      "120\n"
     ]
    }
   ],
   "source": [
    "#Recursive function to calculate factorial\n",
    "def factorial(n):\n",
    "    if n==1:\n",
    "        return 1\n",
    "    else:\n",
    "        return n * factorial(n-1)\n",
    "\n",
    "print(factorial(5))"
   ]
  },
  {
   "cell_type": "markdown",
   "id": "f90fb37f",
   "metadata": {},
   "source": [
    "Nested Functions"
   ]
  },
  {
   "cell_type": "code",
   "execution_count": 7,
   "id": "19159cd3",
   "metadata": {},
   "outputs": [
    {
     "name": "stdout",
     "output_type": "stream",
     "text": [
      "Hello, Anand!\n"
     ]
    }
   ],
   "source": [
    "#Nested function in Python\n",
    "def outer_function(name):\n",
    "    def inner_function():\n",
    "        print(f\"Hello, {name}!\")\n",
    "    inner_function()\n",
    "    \n",
    "outer_function(\"Anand\")"
   ]
  },
  {
   "cell_type": "markdown",
   "id": "53e0a8e0",
   "metadata": {},
   "source": [
    "Assignment:"
   ]
  },
  {
   "cell_type": "markdown",
   "id": "b25fa505",
   "metadata": {},
   "source": [
    "1. Lambda Function: Write a lambda function that multiplies two numbers."
   ]
  },
  {
   "cell_type": "code",
   "execution_count": 8,
   "id": "74da1ea9",
   "metadata": {},
   "outputs": [
    {
     "name": "stdout",
     "output_type": "stream",
     "text": [
      "Multiplication result: 20\n"
     ]
    }
   ],
   "source": [
    "# Lambda function to multiply two numbers\n",
    "multiply = lambda a, b: a * b\n",
    "\n",
    "# Example usage\n",
    "result = multiply(5, 4)\n",
    "print(\"Multiplication result:\", result)"
   ]
  },
  {
   "cell_type": "markdown",
   "id": "4e3715fb",
   "metadata": {},
   "source": [
    "2. Recursive Function: Write a recursive function that calculates the sum of the first n numbers."
   ]
  },
  {
   "cell_type": "code",
   "execution_count": 9,
   "id": "a2cae619",
   "metadata": {},
   "outputs": [
    {
     "name": "stdout",
     "output_type": "stream",
     "text": [
      "Sum of first 5 numbers is: 15\n"
     ]
    }
   ],
   "source": [
    "# Recursive function to calculate sum of first n numbers\n",
    "def sum_n(n):\n",
    "    if n == 1:\n",
    "        return 1\n",
    "    else:\n",
    "        return n + sum_n(n - 1)\n",
    "\n",
    "# Example usage\n",
    "result = sum_n(5)\n",
    "print(\"Sum of first 5 numbers is:\", result)"
   ]
  },
  {
   "cell_type": "markdown",
   "id": "ff346f44",
   "metadata": {},
   "source": [
    "3. Variable-Length Arguments: Write a function that accepts any number of arguments and returns their average.\n",
    "\n"
   ]
  },
  {
   "cell_type": "code",
   "execution_count": 10,
   "id": "98ca2eaf",
   "metadata": {},
   "outputs": [
    {
     "name": "stdout",
     "output_type": "stream",
     "text": [
      "Average is: 25.0\n"
     ]
    }
   ],
   "source": [
    "# Function that accepts any number of arguments and returns their average\n",
    "def average(*args):\n",
    "    if len(args) == 0:\n",
    "        return 0\n",
    "    return sum(args) / len(args)\n",
    "\n",
    "# Example usage\n",
    "result = average(10, 20, 30, 40)\n",
    "print(\"Average is:\", result)"
   ]
  },
  {
   "cell_type": "code",
   "execution_count": null,
   "id": "1a38f33f",
   "metadata": {},
   "outputs": [],
   "source": []
  }
 ],
 "metadata": {
  "kernelspec": {
   "display_name": "Python 3 (ipykernel)",
   "language": "python",
   "name": "python3"
  },
  "language_info": {
   "codemirror_mode": {
    "name": "ipython",
    "version": 3
   },
   "file_extension": ".py",
   "mimetype": "text/x-python",
   "name": "python",
   "nbconvert_exporter": "python",
   "pygments_lexer": "ipython3",
   "version": "3.11.5"
  }
 },
 "nbformat": 4,
 "nbformat_minor": 5
}
