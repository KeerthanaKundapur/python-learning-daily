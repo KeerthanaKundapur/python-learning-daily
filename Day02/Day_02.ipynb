{
 "cells": [
  {
   "cell_type": "markdown",
   "id": "47ee0fc2",
   "metadata": {},
   "source": [
    "# Variables"
   ]
  },
  {
   "cell_type": "markdown",
   "id": "f782236c",
   "metadata": {},
   "source": [
    "Syntax for variable assignment"
   ]
  },
  {
   "cell_type": "code",
   "execution_count": 1,
   "id": "16005e19",
   "metadata": {},
   "outputs": [],
   "source": [
    "x = 5        #Assigning an integer value to the variable x\n",
    "y = \"Hello\"  #Assigning a string value to the variable y"
   ]
  },
  {
   "cell_type": "code",
   "execution_count": 2,
   "id": "8b454ef4",
   "metadata": {},
   "outputs": [
    {
     "name": "stdout",
     "output_type": "stream",
     "text": [
      "5\n",
      "Hello\n"
     ]
    }
   ],
   "source": [
    "print(x)\n",
    "print(y)"
   ]
  },
  {
   "cell_type": "markdown",
   "id": "3df4c293",
   "metadata": {},
   "source": [
    "Variable Naming"
   ]
  },
  {
   "cell_type": "code",
   "execution_count": 3,
   "id": "b2d976e9",
   "metadata": {},
   "outputs": [],
   "source": [
    "age = 25\n",
    "name = \"John\"\n",
    "is_student = True"
   ]
  },
  {
   "cell_type": "code",
   "execution_count": 4,
   "id": "025462ed",
   "metadata": {},
   "outputs": [
    {
     "name": "stdout",
     "output_type": "stream",
     "text": [
      "25\n",
      "John\n",
      "True\n"
     ]
    }
   ],
   "source": [
    "print(age)\n",
    "print(name)\n",
    "print(is_student)"
   ]
  },
  {
   "cell_type": "markdown",
   "id": "66abb063",
   "metadata": {},
   "source": [
    "Type Checking"
   ]
  },
  {
   "cell_type": "code",
   "execution_count": 5,
   "id": "64380fe0",
   "metadata": {},
   "outputs": [
    {
     "name": "stdout",
     "output_type": "stream",
     "text": [
      "<class 'int'>\n"
     ]
    }
   ],
   "source": [
    "x = 10\n",
    "print(type(x))"
   ]
  },
  {
   "cell_type": "markdown",
   "id": "c0dd8b36",
   "metadata": {},
   "source": [
    "Type Conversion"
   ]
  },
  {
   "cell_type": "code",
   "execution_count": 6,
   "id": "88391f7d",
   "metadata": {},
   "outputs": [
    {
     "name": "stdout",
     "output_type": "stream",
     "text": [
      "10.0\n"
     ]
    }
   ],
   "source": [
    "x = \"10\"    #x is a string\n",
    "y = int(x)  #Convert string to integer\n",
    "z = float(y)#Convert integer to float\n",
    "\n",
    "print(z)"
   ]
  },
  {
   "cell_type": "markdown",
   "id": "fd49b02f",
   "metadata": {},
   "source": [
    "Arithmatic Operations"
   ]
  },
  {
   "cell_type": "code",
   "execution_count": 7,
   "id": "61c8d0b6",
   "metadata": {},
   "outputs": [
    {
     "name": "stdout",
     "output_type": "stream",
     "text": [
      "13\n",
      "7\n",
      "30\n",
      "3.3333333333333335\n",
      "3\n",
      "1\n",
      "1000\n"
     ]
    }
   ],
   "source": [
    "a = 10\n",
    "b = 3\n",
    "\n",
    "print(a+b)\n",
    "print(a-b)\n",
    "print(a*b)\n",
    "print(a/b)\n",
    "print(a//b)\n",
    "print(a%b)\n",
    "print(a**b)"
   ]
  },
  {
   "cell_type": "markdown",
   "id": "dd6523b2",
   "metadata": {},
   "source": [
    "Assigning values to multiple variables"
   ]
  },
  {
   "cell_type": "code",
   "execution_count": 8,
   "id": "27526414",
   "metadata": {},
   "outputs": [
    {
     "name": "stdout",
     "output_type": "stream",
     "text": [
      "10\n",
      "20\n",
      "30\n"
     ]
    }
   ],
   "source": [
    "x,y,z = 10,20,30\n",
    "print(x)\n",
    "print(y)\n",
    "print(z)"
   ]
  },
  {
   "cell_type": "markdown",
   "id": "41899231",
   "metadata": {},
   "source": [
    "Assigning same value to multiple variables"
   ]
  },
  {
   "cell_type": "code",
   "execution_count": 10,
   "id": "e2aa9d7b",
   "metadata": {},
   "outputs": [
    {
     "name": "stdout",
     "output_type": "stream",
     "text": [
      "100 100 100\n"
     ]
    }
   ],
   "source": [
    "x=y=z=100\n",
    "print(x,y,z)"
   ]
  },
  {
   "cell_type": "markdown",
   "id": "76b735b3",
   "metadata": {},
   "source": [
    "Variable Reassignment"
   ]
  },
  {
   "cell_type": "code",
   "execution_count": 11,
   "id": "0ef9f5ea",
   "metadata": {},
   "outputs": [
    {
     "name": "stdout",
     "output_type": "stream",
     "text": [
      "5\n",
      "10\n"
     ]
    }
   ],
   "source": [
    "x=5\n",
    "print(x)\n",
    "x=10\n",
    "print(x)"
   ]
  },
  {
   "cell_type": "markdown",
   "id": "8162316c",
   "metadata": {},
   "source": [
    "Homework\n",
    "\n",
    "Arithmetic Practice: Write a Python program that performs basic arithmetic operations (addition, subtraction, multiplication, and division) on two numbers. Define the two numbers as variables within the code and print the results for each operation.\n"
   ]
  },
  {
   "cell_type": "code",
   "execution_count": 12,
   "id": "2c72fa5b",
   "metadata": {},
   "outputs": [
    {
     "name": "stdout",
     "output_type": "stream",
     "text": [
      "Addition: 15\n",
      "Subtraction: 5\n",
      "Multiplication: 50\n",
      "Division: 2.0\n",
      "Result of the expression (10 + 5) * 2 - 6 / 3 is: 28.0\n"
     ]
    }
   ],
   "source": [
    "# Define two numbers\n",
    "num1 = 10\n",
    "num2 = 5\n",
    "\n",
    "# Perform arithmetic operations\n",
    "addition = num1 + num2\n",
    "subtraction = num1 - num2\n",
    "multiplication = num1 * num2\n",
    "division = num1 / num2  # Ensure num2 is not zero to avoid division error\n",
    "\n",
    "# Print the results\n",
    "print(\"Addition:\", addition)\n",
    "print(\"Subtraction:\", subtraction)\n",
    "print(\"Multiplication:\", multiplication)\n",
    "print(\"Division:\", division)\n",
    "\n",
    "# Complex arithmetic operation using BODMAS\n",
    "result = (10 + 5) * 2 - 6 / 3\n",
    "\n",
    "# Print the result\n",
    "print(\"Result of the expression (10 + 5) * 2 - 6 / 3 is:\", result)\n"
   ]
  },
  {
   "cell_type": "markdown",
   "id": "8652dd21",
   "metadata": {},
   "source": [
    "Swap Two Variables: Write a Python program that swaps the values of two variables with and without using a third variable."
   ]
  },
  {
   "cell_type": "code",
   "execution_count": 15,
   "id": "2c43f4a6",
   "metadata": {},
   "outputs": [
    {
     "name": "stdout",
     "output_type": "stream",
     "text": [
      "Before swapping (using third variable): a = 10 b = 5\n",
      "After swapping: a = 5 b = 10\n",
      "Before swapping (without third variable): x = 15 y = 7\n",
      "After swapping: x = 7 y = 15\n",
      "Before swapping (one-liner): p = 3 q = 8\n",
      "After swapping: p = 8 q = 3\n"
     ]
    }
   ],
   "source": [
    "#Method 1: Using a Third Variable\n",
    "\n",
    "# Initial values\n",
    "a = 10\n",
    "b = 5\n",
    "\n",
    "print(\"Before swapping (using third variable): a =\", a, \"b =\", b)\n",
    "\n",
    "# Swap using a third variable\n",
    "temp = a\n",
    "a = b\n",
    "b = temp\n",
    "\n",
    "print(\"After swapping: a =\", a, \"b =\", b)\n",
    "\n",
    "#Method 2: Without Using a Third Variable\n",
    "\n",
    "# Initial values\n",
    "x = 15\n",
    "y = 7\n",
    "\n",
    "print(\"Before swapping (without third variable): x =\", x, \"y =\", y)\n",
    "\n",
    "# Swap without using a third variable\n",
    "x = x + y\n",
    "y = x - y\n",
    "x = x - y\n",
    "\n",
    "print(\"After swapping: x =\", x, \"y =\", y)\n",
    "\n",
    "#Bonus Pythonic Way (One-liner swap)\n",
    "\n",
    "# One-liner swap (Pythonic)\n",
    "p = 3\n",
    "q = 8\n",
    "\n",
    "print(\"Before swapping (one-liner): p =\", p, \"q =\", q)\n",
    "\n",
    "p, q = q, p\n",
    "\n",
    "print(\"After swapping: p =\", p, \"q =\", q)"
   ]
  }
 ],
 "metadata": {
  "kernelspec": {
   "display_name": "Python 3 (ipykernel)",
   "language": "python",
   "name": "python3"
  },
  "language_info": {
   "codemirror_mode": {
    "name": "ipython",
    "version": 3
   },
   "file_extension": ".py",
   "mimetype": "text/x-python",
   "name": "python",
   "nbconvert_exporter": "python",
   "pygments_lexer": "ipython3",
   "version": "3.11.5"
  }
 },
 "nbformat": 4,
 "nbformat_minor": 5
}
