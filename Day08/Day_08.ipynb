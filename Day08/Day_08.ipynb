{
 "cells": [
  {
   "cell_type": "markdown",
   "id": "b38ccc08",
   "metadata": {},
   "source": [
    "# Conditional Statements in Python: if, elif, and else"
   ]
  },
  {
   "cell_type": "markdown",
   "id": "3e3f4ebc",
   "metadata": {},
   "source": [
    "1. The if Statement"
   ]
  },
  {
   "cell_type": "markdown",
   "id": "3883db8a",
   "metadata": {},
   "source": [
    "    Syntax:\n",
    "    if condition:\n",
    "    #Code block to execute if the condition is True"
   ]
  },
  {
   "cell_type": "code",
   "execution_count": 1,
   "id": "e00ec7f9",
   "metadata": {},
   "outputs": [
    {
     "name": "stdout",
     "output_type": "stream",
     "text": [
      "It's time for dinner!\n"
     ]
    }
   ],
   "source": [
    "#Let's say you want to check if it's time for dinner (assuming dinner time is 8 PM).\n",
    "time = 20 #20 represents 8 PM in 24-hours format\n",
    "if time == 20:\n",
    "    print(\"It's time for dinner!\")"
   ]
  },
  {
   "cell_type": "markdown",
   "id": "279c8c5a",
   "metadata": {},
   "source": [
    "2. The else Statement"
   ]
  },
  {
   "cell_type": "markdown",
   "id": "f7414f80",
   "metadata": {},
   "source": [
    "    if condition:\n",
    "        #Code block if the condition is True\n",
    "    else:\n",
    "        #Code block if the condition is False"
   ]
  },
  {
   "cell_type": "code",
   "execution_count": 3,
   "id": "32602d4b",
   "metadata": {},
   "outputs": [
    {
     "name": "stdout",
     "output_type": "stream",
     "text": [
      "It's not dinner time yet.\n"
     ]
    }
   ],
   "source": [
    "#Let's extend the dinner example by adding an alternative action if it's not 8 PM.\n",
    "time = 18 # 6 PM\n",
    "if time == 20:\n",
    "    print(\"It's time for dinner!\")\n",
    "else:\n",
    "    print(\"It's not dinner time yet.\")"
   ]
  },
  {
   "cell_type": "markdown",
   "id": "4bb8d9ad",
   "metadata": {},
   "source": [
    "3. The elif Statement"
   ]
  },
  {
   "cell_type": "markdown",
   "id": "eb33d94d",
   "metadata": {},
   "source": [
    "    Syntax:\n",
    "        if condition1:\n",
    "        #Code block if condition1 is True\n",
    "        elif condition2:\n",
    "        #Code block if condition2 is True\n",
    "        else:\n",
    "        #Code block if none of the above condition are True"
   ]
  },
  {
   "cell_type": "code",
   "execution_count": 4,
   "id": "7a135f8e",
   "metadata": {},
   "outputs": [
    {
     "name": "stdout",
     "output_type": "stream",
     "text": [
      "It's not a meal time.\n"
     ]
    }
   ],
   "source": [
    "#Let’s create a system to check meal times based on the time of the day:\n",
    "\n",
    "time = 15 #3PM\n",
    "if time == 8:\n",
    "    print(\"It's breakfast time!\")\n",
    "elif time == 13:\n",
    "    print(\"Its lunch time!\")\n",
    "elif time == 20:\n",
    "    print(\"It's dinner time!\")\n",
    "else:\n",
    "    print(\"It's not a meal time.\")"
   ]
  },
  {
   "cell_type": "markdown",
   "id": "dfca94f4",
   "metadata": {},
   "source": [
    "4. Comparison Operators in if Statements"
   ]
  },
  {
   "cell_type": "code",
   "execution_count": 5,
   "id": "bdd48222",
   "metadata": {},
   "outputs": [
    {
     "name": "stdout",
     "output_type": "stream",
     "text": [
      "You are eligible to vote.\n"
     ]
    }
   ],
   "source": [
    "#Let’s check if someone is eligible to vote in Karnataka (minimum age for voting is 18).\n",
    "age = 19\n",
    "\n",
    "if age>=18:\n",
    "    print(\"You are eligible to vote.\")\n",
    "else:\n",
    "    print(\"You are not eligible to vote.\")"
   ]
  },
  {
   "cell_type": "markdown",
   "id": "3a8d0fbd",
   "metadata": {},
   "source": [
    "5. Logical Operators in if Statements"
   ]
  },
  {
   "cell_type": "code",
   "execution_count": 6,
   "id": "b9fbfcb1",
   "metadata": {},
   "outputs": [
    {
     "name": "stdout",
     "output_type": "stream",
     "text": [
      "You are eligible for the student discount!\n"
     ]
    }
   ],
   "source": [
    "#Let’s say you want to check if someone is eligible for a student discount. The person must be both under 18 years of age and have a student ID.\n",
    "age = 16\n",
    "has_student_id = True\n",
    "if age<18 and has_student_id:\n",
    "    print(\"You are eligible for the student discount!\")\n",
    "else:\n",
    "    print(\"You are not eligible for the student discount\")"
   ]
  },
  {
   "cell_type": "markdown",
   "id": "f15cabc6",
   "metadata": {},
   "source": [
    "#6. Example: Checking Bus Ticket Prices\n",
    "Let’s create an example based on ticket prices for a Karnataka KSRTC bus. If the passenger is under 5 years old, the ticket is free. If the passenger is between 5 and 12 years old, they get a child discount. If the passenger is 60 years or older, they get a senior citizen discount. Otherwise, they pay the full fare."
   ]
  },
  {
   "cell_type": "code",
   "execution_count": 8,
   "id": "91d689c9",
   "metadata": {},
   "outputs": [
    {
     "name": "stdout",
     "output_type": "stream",
     "text": [
      "You get a senior citizen discount.\n"
     ]
    }
   ],
   "source": [
    "age = 65\n",
    "\n",
    "if age < 5:\n",
    "    print(\"Ticket is free.\")\n",
    "elif age <= 12:\n",
    "    print(\"You get a child discount.\")\n",
    "elif age >= 60:\n",
    "    print(\"You get a senior citizen discount.\")\n",
    "else:\n",
    "    print(\"You pay the full fare.\")"
   ]
  },
  {
   "cell_type": "markdown",
   "id": "17eb2b52",
   "metadata": {},
   "source": [
    "7. Nested if Statements"
   ]
  },
  {
   "cell_type": "code",
   "execution_count": 9,
   "id": "6bf60a6a",
   "metadata": {},
   "outputs": [
    {
     "name": "stdout",
     "output_type": "stream",
     "text": [
      "Let's visit Mysuru!\n"
     ]
    }
   ],
   "source": [
    "#Let’s say you’re planning to visit Mysuru. You want to decide whether to go based on the day of the week and the weather.\n",
    "day = \"Saturday\"\n",
    "is_raining = False\n",
    "if day == \"Saturday\" or day == \"Sunday\":\n",
    "    if not is_raining:\n",
    "        print(\"Let's visit Mysuru!\")\n",
    "    else:\n",
    "        print(\"It's raining, let's stay home.\")\n",
    "else:\n",
    "    print(\"It's a weekday, lets wait for the weekend.\")"
   ]
  },
  {
   "cell_type": "markdown",
   "id": "eba203f4",
   "metadata": {},
   "source": [
    "8. Indentation in Python"
   ]
  },
  {
   "cell_type": "code",
   "execution_count": 10,
   "id": "19df0037",
   "metadata": {},
   "outputs": [
    {
     "name": "stdout",
     "output_type": "stream",
     "text": [
      "You are eligible to vote.\n",
      "Remember to bring your voter ID.\n"
     ]
    }
   ],
   "source": [
    "age = 19\n",
    "if age >= 18:\n",
    "    print(\"You are eligible to vote.\")\n",
    "    print(\"Remember to bring your voter ID.\")\n",
    "else:\n",
    "    print(\"You are not eligible to vote.\")"
   ]
  },
  {
   "cell_type": "markdown",
   "id": "38f9cea2",
   "metadata": {},
   "source": [
    "9. The match-case Statement (Python 3.10+)"
   ]
  },
  {
   "cell_type": "markdown",
   "id": "5cb0a647",
   "metadata": {},
   "source": [
    "    match variable:\n",
    "        case value1:\n",
    "            #Code block for value1\n",
    "        case value2:\n",
    "            #Code block for value2\n",
    "        case_:\n",
    "            #Default case (like else)"
   ]
  },
  {
   "cell_type": "code",
   "execution_count": 13,
   "id": "2bbb0b1b",
   "metadata": {},
   "outputs": [
    {
     "name": "stdout",
     "output_type": "stream",
     "text": [
      "It's the weekend!\n"
     ]
    }
   ],
   "source": [
    "#Let’s check the type of day using match-case.\n",
    "day = \"Sunday\"\n",
    "match day:\n",
    "    case \"Monday\":\n",
    "        print(\"Start of the work week.\")\n",
    "    case \"Friday\":\n",
    "        print(\"Almost weekend!\")\n",
    "    case \"Saturday\"|\"Sunday\":\n",
    "        print(\"It's the weekend!\")\n",
    "    case _:\n",
    "        print(\"Just another weekday.\") #_ wildcard"
   ]
  },
  {
   "cell_type": "markdown",
   "id": "6062d8ca",
   "metadata": {},
   "source": [
    "Assignment:"
   ]
  },
  {
   "cell_type": "markdown",
   "id": "a716faf0",
   "metadata": {},
   "source": [
    "1. \n",
    "\n",
    "Basic Conditions:\n",
    "\n",
    "    Write a program to check if someone is eligible for a bus pass. If they are below 5 years, the bus pass is free. If they are 60 years or older, they get a senior citizen discount. Otherwise, they pay the full price."
   ]
  },
  {
   "cell_type": "code",
   "execution_count": 15,
   "id": "a66f5a9e",
   "metadata": {},
   "outputs": [
    {
     "name": "stdout",
     "output_type": "stream",
     "text": [
      "You pay the full fare.\n"
     ]
    }
   ],
   "source": [
    "age = 28\n",
    "\n",
    "if age < 5:\n",
    "    print(\"Buss pass is free.\")\n",
    "elif age >= 60:\n",
    "    print(\"You get a senior citizen discount.\")\n",
    "else:\n",
    "    print(\"You pay the full fare.\")"
   ]
  },
  {
   "cell_type": "markdown",
   "id": "b46a0be4",
   "metadata": {},
   "source": [
    "2. \n",
    "\n",
    "Meal Time Checker:\n",
    "\n",
    "    Create a program that checks the time of day (24-hour format) and prints whether it's time for breakfast, lunch, or dinner.\n",
    "        Breakfast: 8 AM\n",
    "        Lunch: 1 PM\n",
    "        Dinner: 8 PM\n",
    "        If none of these times, print \"It's not meal time.\""
   ]
  },
  {
   "cell_type": "code",
   "execution_count": 16,
   "id": "ea76483e",
   "metadata": {},
   "outputs": [
    {
     "name": "stdout",
     "output_type": "stream",
     "text": [
      "It's not a meal time.\n"
     ]
    }
   ],
   "source": [
    "time = 15 #3PM\n",
    "if time == 8:\n",
    "    print(\"It's breakfast time!\")\n",
    "elif time == 13:\n",
    "    print(\"Its lunch time!\")\n",
    "elif time == 20:\n",
    "    print(\"It's dinner time!\")\n",
    "else:\n",
    "    print(\"It's not a meal time.\")"
   ]
  },
  {
   "cell_type": "markdown",
   "id": "6d054baf",
   "metadata": {},
   "source": [
    "3. \n",
    "\n",
    "Simple Eligibility Check:\n",
    "\n",
    "    Write a program that checks whether a person is eligible for a library membership. If they are under 18, they get a student membership. If they are 60 or older, they get a senior citizen membership. Otherwise, they get a regular membership.\n",
    "\n"
   ]
  },
  {
   "cell_type": "code",
   "execution_count": 17,
   "id": "cea68fd4",
   "metadata": {},
   "outputs": [
    {
     "name": "stdout",
     "output_type": "stream",
     "text": [
      "You will get Regular Membership\n"
     ]
    }
   ],
   "source": [
    "age = 22\n",
    "\n",
    "if age < 18:\n",
    "    print(\"You will get Student Membership\")\n",
    "elif age >= 60:\n",
    "    print(\"You will get a senior citizen Membership.\")\n",
    "else:\n",
    "    print(\"You will get Regular Membership\")"
   ]
  },
  {
   "cell_type": "code",
   "execution_count": null,
   "id": "d827f98a",
   "metadata": {},
   "outputs": [],
   "source": []
  }
 ],
 "metadata": {
  "kernelspec": {
   "display_name": "Python 3 (ipykernel)",
   "language": "python",
   "name": "python3"
  },
  "language_info": {
   "codemirror_mode": {
    "name": "ipython",
    "version": 3
   },
   "file_extension": ".py",
   "mimetype": "text/x-python",
   "name": "python",
   "nbconvert_exporter": "python",
   "pygments_lexer": "ipython3",
   "version": "3.11.5"
  }
 },
 "nbformat": 4,
 "nbformat_minor": 5
}
